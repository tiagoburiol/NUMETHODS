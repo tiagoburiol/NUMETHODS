{
 "cells": [
  {
   "cell_type": "markdown",
   "metadata": {},
   "source": [
    "# 0.1 O Básico Sobre Python\n",
    "\n",
    "Python é uma linguagem de programação que suporta os três principais paradigmas atuais para desenvolvimento de software:\n",
    "\n",
    "* Programação orientada a objetos (_object oriented programming_, mais conhecida como _OOP_)\n",
    "* Programação funcional (_functional programming_, ou _FP_)\n",
    "* Programação imperativa (_imperative programming_, ou _IP_)\n",
    "\n",
    "Python começou a ser desenvolvido em 1989 por Guido van Rossum como uma linguagem de script e hoje em dia é uma das linguagens de programação mais populares. Em seu estado atual, é uma excelente linguagem para o desenvolvimento de aplicações e protótipos para computação científica e engenharia. Também é conhecida por ser de fácil e rápido aprendizado, com uma sintaxe muito simples.\n",
    "\n",
    "Os programas Python, em geral, não são diretamente compilados em código de máquina, mas sim executados por um programa auxiliar, chamado de interpretador (_interpreter_). Em contraste, as linguagens C, Java e Fortran são todas compiladas.\n",
    "\n",
    "A grande vantagem de uma linguagem interpretada é que os programas podem ser testados e depurados mais facilmente, por não requererem os passos adicionais de compilação, vinculação e execução após cada modificação. Os programas Python podem ser desenvolvidos em tempo muito mais curto do que os programas Fortran ou C equivalentes. Em contrapartida, a execução de um programa Python tende a ser mais lenta, às vezes por um fator de 10 ou mais, do que um programa equivalente escrito numa linguagem compilada como C ou Fortran. Outra desvantagem é que os programas interpretados não produzem aplicativos executáveis _autônomos_; para se executar um determinado script Python, é necessário que o computador do usuário também possua o interpretador Python instalado.\n",
    "\n",
    "Além disto, Python tem as seguintes propriedades desejáveis num ambiente de aprendizagem: \n",
    "* É _livre_ e de _código aberto_ (_free_ e _open source_); em particular é gratuito.\n",
    "* Está incluso na maioria das distribuições Linux e disponível para a maioria dos sitemas operacionais. Além disto, um programa Python pode ser executado em diferentes sistemas sem necessitar de modificações.\n",
    "* É fácil de aprender e produz códigos mais legíveis que a maioria das linguagens de programação.\n",
    "* Suas extensões são fáceis de se instalar e usar.\n",
    "* Implementa conceitos comuns à orientação a objetos, tais como: classes, métodos, instâncias, etc.\n",
    "\n",
    "\n",
    "## Tipos de dados e operações básicas\n",
    "\n",
    "Os principais tipos de dados primitivos (já embutidos no núcleo da linguagem) disponíveis em Python são:\n",
    "\n",
    "* Tipos numéricos, como `int`, `long`, `float` e `complex`;\n",
    "* Booleano (`bool`), que só pode assumir os valores `True` (verdadeiro) e `False` (falso);\n",
    "* Cadeias de caracteres (`str`, abreviação de _string_);\n",
    "* Tipos sequenciais: listas (`list`), tuplas (`tuple`) e range (`range`);\n",
    "* Dicionário/associação (`dict`);\n",
    "* Conjunto (`set`);\n",
    "* _Nonetype_, que só tem um valor possível: `None` (_nada_ ou _nenhum_).\n",
    "\n",
    "Além destes e de mais alguns outros, existem os tipos de dados que podem ser definidos pelo usuário. \n",
    "\n",
    "Os dados são armazenados em **variáveis** e podem ser processados usando funções ou operadores. Python usa *tipagem dinâmica*, o que significa que o tipo de dado armazenado numa determinada variável pode mudar dinamicamente, ou seja, no decorrer do programa. O exemplo abaixo mostra algumas operações e mudanças do tipo de dados armazenados.\n",
    "\n",
    "**EXEMPLO 1**"
   ]
  },
  {
   "cell_type": "code",
   "execution_count": 1,
   "metadata": {},
   "outputs": [
    {
     "name": "stdout",
     "output_type": "stream",
     "text": [
      "Tipo e valor da variável a: 3.01 <class 'float'>\n",
      "Tipo e valor da variável a: 3 <class 'int'>\n",
      "Tipo e valor da variável b: 2.2 <class 'float'>\n",
      "Tipo e valor da variável c: 11.2 <class 'float'>\n"
     ]
    }
   ],
   "source": [
    "a = 3.01\n",
    "print (\"Tipo e valor da variável a:\", a, type(a))\n",
    "\n",
    "a = 3\n",
    "print (\"Tipo e valor da variável a:\", a, type(a))\n",
    "\n",
    "b = 2.2\n",
    "print (\"Tipo e valor da variável b:\", b, type(b))\n",
    "\n",
    "c = 3 * a + b\n",
    "print (\"Tipo e valor da variável c:\", c, type(c))"
   ]
  },
  {
   "cell_type": "markdown",
   "metadata": {},
   "source": [
    "Os operadores aritméticos usados em Python são:\n",
    "\n",
    "<img src=\"https://github.com/tiagoburiol/NUMETHODS/raw/master/0_PYTHON_NUMERICO_BASICO/imagens/operadores_relacionais.jpg\" width=\"440\">\n",
    "\n",
    "Os operadores lógicos são **and**, **or** e **not**."
   ]
  },
  {
   "cell_type": "markdown",
   "metadata": {},
   "source": [
    "O exemplo a seguir mostra algumas mudanças do tipo de dado armazenado em uma única variável.\n",
    "\n",
    "**EXEMPLO 2**"
   ]
  },
  {
   "cell_type": "code",
   "execution_count": 2,
   "metadata": {},
   "outputs": [
    {
     "name": "stdout",
     "output_type": "stream",
     "text": [
      "7 <class 'int'>\n",
      "2.3333333333333335 <class 'float'>\n",
      "2 <class 'int'>\n",
      "(2+0j) <class 'complex'>\n",
      "(2+0j) <class 'str'>\n"
     ]
    }
   ],
   "source": [
    "x = 7\n",
    "print(x, type(x))\n",
    "\n",
    "x = 7/3\n",
    "print(x, type(x))\n",
    "\n",
    "x = int(x)\n",
    "print(x, type(x))\n",
    "\n",
    "x = complex(x)\n",
    "print(x, type(x))\n",
    "\n",
    "x = str(x)\n",
    "print(x, type(x))"
   ]
  },
  {
   "cell_type": "markdown",
   "metadata": {},
   "source": [
    "## Introdução à sintaxe Python"
   ]
  },
  {
   "cell_type": "markdown",
   "metadata": {},
   "source": [
    "Faremos uma rápida introdução à sintaxe Python. Estudaremos os tipos numéricos básicos e como eles se comportam.\n"
   ]
  },
  {
   "cell_type": "markdown",
   "metadata": {},
   "source": [
    "### Tipos numéricos"
   ]
  },
  {
   "cell_type": "markdown",
   "metadata": {},
   "source": [
    "Python possui os tipos numéricos e  operações mais habituais:"
   ]
  },
  {
   "cell_type": "code",
   "execution_count": 3,
   "metadata": {},
   "outputs": [
    {
     "data": {
      "text/plain": [
       "7.0"
      ]
     },
     "execution_count": 3,
     "metadata": {},
     "output_type": "execute_result"
    }
   ],
   "source": [
    "2 * 4 - (7 - 1) / 3 + 1.0 "
   ]
  },
  {
   "cell_type": "markdown",
   "metadata": {},
   "source": [
    "Como acima, para melhorar a legibilidade do código, é recomendada a inclusão de um espaço de cada lado de um operador, por exemplo escrevemos:"
   ]
  },
  {
   "cell_type": "code",
   "execution_count": 17,
   "metadata": {},
   "outputs": [
    {
     "data": {
      "text/plain": [
       "31.0"
      ]
     },
     "execution_count": 17,
     "metadata": {},
     "output_type": "execute_result"
    }
   ],
   "source": [
    "3.1 * 10"
   ]
  },
  {
   "cell_type": "markdown",
   "metadata": {},
   "source": [
    "Em vez de:"
   ]
  },
  {
   "cell_type": "code",
   "execution_count": 19,
   "metadata": {
    "scrolled": true
   },
   "outputs": [
    {
     "data": {
      "text/plain": [
       "31.0"
      ]
     },
     "execution_count": 19,
     "metadata": {},
     "output_type": "execute_result"
    }
   ],
   "source": [
    "3.1*10"
   ]
  },
  {
   "cell_type": "markdown",
   "metadata": {},
   "source": [
    "As divisões por zero geram um erro:"
   ]
  },
  {
   "cell_type": "code",
   "execution_count": 4,
   "metadata": {},
   "outputs": [
    {
     "ename": "ZeroDivisionError",
     "evalue": "division by zero",
     "output_type": "error",
     "traceback": [
      "\u001b[0;31m---------------------------------------------------------------------------\u001b[0m",
      "\u001b[0;31mZeroDivisionError\u001b[0m                         Traceback (most recent call last)",
      "Input \u001b[0;32mIn [4]\u001b[0m, in \u001b[0;36m<module>\u001b[0;34m\u001b[0m\n\u001b[0;32m----> 1\u001b[0m \u001b[38;5;241;43m1\u001b[39;49m\u001b[43m \u001b[49m\u001b[38;5;241;43m/\u001b[39;49m\u001b[43m \u001b[49m\u001b[38;5;241;43m0\u001b[39;49m\n",
      "\u001b[0;31mZeroDivisionError\u001b[0m: division by zero"
     ]
    }
   ],
   "source": [
    "1 / 0"
   ]
  },
  {
   "cell_type": "code",
   "execution_count": 5,
   "metadata": {},
   "outputs": [
    {
     "ename": "ZeroDivisionError",
     "evalue": "float division by zero",
     "output_type": "error",
     "traceback": [
      "\u001b[0;31m---------------------------------------------------------------------------\u001b[0m",
      "\u001b[0;31mZeroDivisionError\u001b[0m                         Traceback (most recent call last)",
      "Input \u001b[0;32mIn [5]\u001b[0m, in \u001b[0;36m<module>\u001b[0;34m\u001b[0m\n\u001b[0;32m----> 1\u001b[0m \u001b[38;5;241;43m1.0\u001b[39;49m\u001b[43m \u001b[49m\u001b[38;5;241;43m/\u001b[39;49m\u001b[43m \u001b[49m\u001b[38;5;241;43m0.0\u001b[39;49m\n",
      "\u001b[0;31mZeroDivisionError\u001b[0m: float division by zero"
     ]
    }
   ],
   "source": [
    "1.0 / 0.0"
   ]
  },
  {
   "cell_type": "markdown",
   "metadata": {},
   "source": [
    "A divisão entre inteiros (`int`) em Python 3 resulta em um número de tipo ponto flutuante (`float`)."
   ]
  },
  {
   "cell_type": "code",
   "execution_count": 6,
   "metadata": {},
   "outputs": [
    {
     "data": {
      "text/plain": [
       "2.3333333333333335"
      ]
     },
     "execution_count": 6,
     "metadata": {},
     "output_type": "execute_result"
    }
   ],
   "source": [
    "7 / 3"
   ]
  },
  {
   "cell_type": "markdown",
   "metadata": {},
   "source": [
    "Pode-se forçar para que o resultado da divisão seja inteiro em Python 3 com o operador `//` (observe que o resultado é obtido através de truncamento, i.e., é o maior inteiro menor ou igual ao quociente): "
   ]
  },
  {
   "cell_type": "code",
   "execution_count": 7,
   "metadata": {},
   "outputs": [
    {
     "data": {
      "text/plain": [
       "2"
      ]
     },
     "execution_count": 7,
     "metadata": {},
     "output_type": "execute_result"
    }
   ],
   "source": [
    "7 // 3"
   ]
  },
  {
   "cell_type": "markdown",
   "metadata": {},
   "source": [
    "O operador `%` (_módulo_) denota o resto da divisão entre dois inteiros:"
   ]
  },
  {
   "cell_type": "code",
   "execution_count": 8,
   "metadata": {},
   "outputs": [
    {
     "data": {
      "text/plain": [
       "1"
      ]
     },
     "execution_count": 8,
     "metadata": {},
     "output_type": "execute_result"
    }
   ],
   "source": [
    "7 % 3"
   ]
  },
  {
   "cell_type": "markdown",
   "metadata": {},
   "source": [
    "A exponenciação é denotada por `**`:"
   ]
  },
  {
   "cell_type": "code",
   "execution_count": 9,
   "metadata": {},
   "outputs": [
    {
     "data": {
      "text/plain": [
       "9"
      ]
     },
     "execution_count": 9,
     "metadata": {},
     "output_type": "execute_result"
    }
   ],
   "source": [
    "3**2"
   ]
  },
  {
   "cell_type": "code",
   "execution_count": 10,
   "metadata": {},
   "outputs": [
    {
     "data": {
      "text/plain": [
       "8"
      ]
     },
     "execution_count": 10,
     "metadata": {},
     "output_type": "execute_result"
    }
   ],
   "source": [
    "2**3"
   ]
  },
  {
   "cell_type": "markdown",
   "metadata": {},
   "source": [
    "Outro tipo de dado útil é o dos números complexos (`complex`). A unidade imaginária é denotada por _j_, não por _i_:"
   ]
  },
  {
   "cell_type": "code",
   "execution_count": 11,
   "metadata": {},
   "outputs": [
    {
     "data": {
      "text/plain": [
       "(3+4j)"
      ]
     },
     "execution_count": 11,
     "metadata": {},
     "output_type": "execute_result"
    }
   ],
   "source": [
    "3 + 4j"
   ]
  },
  {
   "cell_type": "code",
   "execution_count": 12,
   "metadata": {},
   "outputs": [
    {
     "data": {
      "text/plain": [
       "1j"
      ]
     },
     "execution_count": 12,
     "metadata": {},
     "output_type": "execute_result"
    }
   ],
   "source": [
    "1j"
   ]
  },
  {
   "cell_type": "markdown",
   "metadata": {},
   "source": [
    "O _módulo_ ou _valor absoluto_ de um número (possivelmente complexo) é obtido através da função `abs`:"
   ]
  },
  {
   "cell_type": "code",
   "execution_count": 13,
   "metadata": {},
   "outputs": [
    {
     "name": "stdout",
     "output_type": "stream",
     "text": [
      "5.0\n",
      "5.5\n"
     ]
    }
   ],
   "source": [
    "# Módulo de um número real ou complexo:\n",
    "a = abs(3 + 4j)\n",
    "b = abs(-5.5)\n",
    "\n",
    "print(a)\n",
    "print(b)"
   ]
  },
  {
   "cell_type": "markdown",
   "metadata": {},
   "source": [
    "<div class=\"alert alert-info\"><strong>Dica do Jupyter</strong>: Podemos recuperar resultados de comandos passados de um caderno (Jupyter Notebook) usando `_<n>`. Por exemplo, para recuperar o resultado correspondente a `Out [11]`, usaríamos `_11`. Esta variável guarda esse valor durante toda a sessão.</div>"
   ]
  },
  {
   "cell_type": "code",
   "execution_count": 14,
   "metadata": {},
   "outputs": [
    {
     "data": {
      "text/plain": [
       "9"
      ]
     },
     "execution_count": 14,
     "metadata": {},
     "output_type": "execute_result"
    }
   ],
   "source": [
    "abs(_11)"
   ]
  },
  {
   "cell_type": "markdown",
   "metadata": {},
   "source": [
    "Podemos _converter variáveis_ a `int`, `float`, `complex`, `str` usando estes nomes como funções:"
   ]
  },
  {
   "cell_type": "code",
   "execution_count": 20,
   "metadata": {},
   "outputs": [
    {
     "name": "stdout",
     "output_type": "stream",
     "text": [
      "18.6 <class 'float'>\n",
      "18 <class 'int'>\n"
     ]
    }
   ],
   "source": [
    "a = 18.6\n",
    "\n",
    "b = int(18.6)\n",
    "\n",
    "# Neste caso 'a' é uma varíavel de tipo float, enquanto b é uma variável de tipo int:\n",
    "print(a, type(a))\n",
    "print(b, type(b))"
   ]
  },
  {
   "cell_type": "markdown",
   "metadata": {},
   "source": [
    "O comando `round`(_number_, _digits_) é usado para se arredondar um número usando _digits_ dígitos. O segundo argumento é opcional; caso não seja provido, arredonda-se ao inteiro mais próximo. Por exemplo:"
   ]
  },
  {
   "cell_type": "code",
   "execution_count": 26,
   "metadata": {},
   "outputs": [
    {
     "data": {
      "text/plain": [
       "19"
      ]
     },
     "execution_count": 26,
     "metadata": {},
     "output_type": "execute_result"
    }
   ],
   "source": [
    "round(18.6)"
   ]
  },
  {
   "cell_type": "code",
   "execution_count": 33,
   "metadata": {},
   "outputs": [
    {
     "data": {
      "text/plain": [
       "1.0"
      ]
     },
     "execution_count": 33,
     "metadata": {},
     "output_type": "execute_result"
    }
   ],
   "source": [
    "float(1)"
   ]
  },
  {
   "cell_type": "code",
   "execution_count": 32,
   "metadata": {},
   "outputs": [
    {
     "data": {
      "text/plain": [
       "(2+0j)"
      ]
     },
     "execution_count": 32,
     "metadata": {},
     "output_type": "execute_result"
    }
   ],
   "source": [
    "complex(2)"
   ]
  },
  {
   "cell_type": "code",
   "execution_count": 30,
   "metadata": {},
   "outputs": [
    {
     "data": {
      "text/plain": [
       "'256568'"
      ]
     },
     "execution_count": 30,
     "metadata": {},
     "output_type": "execute_result"
    }
   ],
   "source": [
    "str(256568)  # Converte este inteiro ao tipo str (string)."
   ]
  },
  {
   "cell_type": "markdown",
   "metadata": {},
   "source": [
    "Podemos o tipo de uma variável com os comandos seguintes:"
   ]
  },
  {
   "cell_type": "code",
   "execution_count": 35,
   "metadata": {},
   "outputs": [
    {
     "data": {
      "text/plain": [
       "float"
      ]
     },
     "execution_count": 35,
     "metadata": {},
     "output_type": "execute_result"
    }
   ],
   "source": [
    "a = 2.3\n",
    "type(a)"
   ]
  },
  {
   "cell_type": "code",
   "execution_count": 36,
   "metadata": {},
   "outputs": [
    {
     "data": {
      "text/plain": [
       "True"
      ]
     },
     "execution_count": 36,
     "metadata": {},
     "output_type": "execute_result"
    }
   ],
   "source": [
    "isinstance(a, float)"
   ]
  },
  {
   "cell_type": "markdown",
   "metadata": {},
   "source": [
    "Outras funções muito úteis são:"
   ]
  },
  {
   "cell_type": "code",
   "execution_count": 39,
   "metadata": {},
   "outputs": [
    {
     "name": "stdout",
     "output_type": "stream",
     "text": [
      "Bem vindos ao curso de Cálculo Numérico!\n",
      "Podemos denotar uma cadeia de caracteres (str) usando aspas duplas,\n",
      "ou aspas simples.\n"
     ]
    }
   ],
   "source": [
    "print('Bem vindos ao curso de Cálculo Numérico!')\n",
    "print(\"Podemos denotar uma cadeia de caracteres (str) usando aspas duplas,\")\n",
    "print('ou aspas simples.')"
   ]
  },
  {
   "cell_type": "code",
   "execution_count": 40,
   "metadata": {},
   "outputs": [
    {
     "data": {
      "text/plain": [
       "8"
      ]
     },
     "execution_count": 40,
     "metadata": {},
     "output_type": "execute_result"
    }
   ],
   "source": [
    "max(1,5,8,7)"
   ]
  },
  {
   "cell_type": "code",
   "execution_count": 41,
   "metadata": {},
   "outputs": [
    {
     "data": {
      "text/plain": [
       "-1"
      ]
     },
     "execution_count": 41,
     "metadata": {},
     "output_type": "execute_result"
    }
   ],
   "source": [
    "min(-1,1,0)"
   ]
  },
  {
   "cell_type": "markdown",
   "metadata": {},
   "source": [
    "__Este é o modo de usar funções__. Observe a sintaxe padrão: os argumentos são colocados entre parênteses e separados por vírgulas."
   ]
  },
  {
   "cell_type": "markdown",
   "metadata": {},
   "source": [
    "<div class=\"alert alert-warning\">A função <code>print</code> é usada para imprimir resultados na  tela. Para inserir o valor de uma variável no meio de uma string utiliza-se a sintaxe seguinte: </div>"
   ]
  },
  {
   "cell_type": "code",
   "execution_count": 43,
   "metadata": {},
   "outputs": [
    {
     "name": "stdout",
     "output_type": "stream",
     "text": [
      "A variável x vale 3.1415\n"
     ]
    }
   ],
   "source": [
    "x = 3.1415\n",
    "print(f\"A variável x vale {x}\")"
   ]
  },
  {
   "cell_type": "markdown",
   "metadata": {},
   "source": [
    "## Atribuição"
   ]
  },
  {
   "cell_type": "markdown",
   "metadata": {},
   "source": [
    "Para atribuir um nome a um objeto (resultado de um cálculo, string, lista, matriz,...) usa-se o operador `=`, denominado _operador de atribuição_. Os nomes das variáveis em Python podem conter somente caracteres alfanuméricos a-z, A-Z, 0-9 e _underscore_  \\_, com a restrição de que o primeiro caracter deve obrigatoriamente ser uma letra ou um underscore. Observe que os nomes em Python são sensíveis à caixa alta, e.g., `bola` e `BoLa` são nomes distintos, que portanto podem ser usados para armazenar valores distintos.\n",
    "\n",
    "_Convenção:_ Costuma-se nomear variáveis com uma letra inicial minúscula, reservando-se as iniciais maiúsculas para classes (um conceito que não estudaremos).\n",
    "\n",
    "Alguns palavras-chave já estão reservadas, por isso  não podem ser usadas; por exemplo:\n",
    "\n",
    "    and, as, assert, break, class, continue, def, del, elif, else, except, exec, finally, for, from, global, if, import, in, is, lambda, not, or, pass, print, raise, return, try, while, with, yield"
   ]
  },
  {
   "cell_type": "code",
   "execution_count": 45,
   "metadata": {},
   "outputs": [],
   "source": [
    "a = 1 + 2j"
   ]
  },
  {
   "cell_type": "markdown",
   "metadata": {},
   "source": [
    "Em Python, __a atribuição não imprime o resultado na tela__. Para visualizar a variável, uma forma sería usar o comando `print`, ou também poderíamos escrever:"
   ]
  },
  {
   "cell_type": "code",
   "execution_count": 46,
   "metadata": {},
   "outputs": [
    {
     "data": {
      "text/plain": [
       "3.14159"
      ]
     },
     "execution_count": 46,
     "metadata": {},
     "output_type": "execute_result"
    }
   ],
   "source": [
    "b = 3.14159\n",
    "b"
   ]
  },
  {
   "cell_type": "markdown",
   "metadata": {},
   "source": [
    "Em uma célula de um caderno __podemos escrever códigos que ocupem várias linhas__. Para introduzir uma nova linha, use `Enter` (também conhecido como `Return`); para executar os comandos, utilize `Shift + Enter`."
   ]
  },
  {
   "cell_type": "code",
   "execution_count": 48,
   "metadata": {},
   "outputs": [
    {
     "data": {
      "text/plain": [
       "(1, 2, 3)"
      ]
     },
     "execution_count": 48,
     "metadata": {},
     "output_type": "execute_result"
    }
   ],
   "source": [
    "x, y, z = 1, 2, 3\n",
    "x, y, z"
   ]
  },
  {
   "cell_type": "markdown",
   "metadata": {},
   "source": [
    "<div class=\"alert alert-info\">Podemos fazer <strong>atribuição múltipla</strong> em particular para intercambiar os valores de duas variáveis:</div>"
   ]
  },
  {
   "cell_type": "code",
   "execution_count": 52,
   "metadata": {},
   "outputs": [
    {
     "data": {
      "text/plain": [
       "(2, 3)"
      ]
     },
     "execution_count": 52,
     "metadata": {},
     "output_type": "execute_result"
    }
   ],
   "source": [
    "old = 1\n",
    "new = 2\n",
    "old, new = new, old + new\n",
    "old, new"
   ]
  },
  {
   "cell_type": "markdown",
   "metadata": {},
   "source": [
    "## Operadores de comparação"
   ]
  },
  {
   "cell_type": "markdown",
   "metadata": {},
   "source": [
    "Python admite os seguintes operadores binários de comparação:\n",
    "\n",
    "* `==` (igual a)\n",
    "* `!=` (diferente de)\n",
    "* `<` (menor que)\n",
    "* `>` (maior que)\n",
    "* `<=` (menor ou igual)\n",
    "* `>=` (maior ou igual)\n",
    "\n",
    "Todos eles retornam um valor booleano: `True` ou `False`. Os operadores `==` e `!=` (ou até mesmo os outros quatro, em alguns casos) podem também ser usados com alguns dos tipos não-numéricos:"
   ]
  },
  {
   "cell_type": "code",
   "execution_count": 212,
   "metadata": {},
   "outputs": [
    {
     "data": {
      "text/plain": [
       "False"
      ]
     },
     "execution_count": 212,
     "metadata": {},
     "output_type": "execute_result"
    }
   ],
   "source": [
    "x = \"first string\"\n",
    "y = \"second string\"\n",
    "x == y"
   ]
  },
  {
   "cell_type": "code",
   "execution_count": 211,
   "metadata": {},
   "outputs": [
    {
     "data": {
      "text/plain": [
       "True"
      ]
     },
     "execution_count": 211,
     "metadata": {},
     "output_type": "execute_result"
    }
   ],
   "source": [
    "1 + 1 == 2"
   ]
  },
  {
   "cell_type": "markdown",
   "metadata": {},
   "source": [
    "_Observação:_ Um erro muito comum para iniciantes é usar o operador de atribuição `=` como se fosse o operador de comparação `==`, o que pode levar a resultados indesejados."
   ]
  },
  {
   "cell_type": "code",
   "execution_count": 210,
   "metadata": {},
   "outputs": [
    {
     "ename": "SyntaxError",
     "evalue": "cannot assign to literal (690182220.py, line 1)",
     "output_type": "error",
     "traceback": [
      "\u001b[0;36m  Input \u001b[0;32mIn [210]\u001b[0;36m\u001b[0m\n\u001b[0;31m    1 = 2\u001b[0m\n\u001b[0m    ^\u001b[0m\n\u001b[0;31mSyntaxError\u001b[0m\u001b[0;31m:\u001b[0m cannot assign to literal\n"
     ]
    }
   ],
   "source": [
    "1 = 2"
   ]
  },
  {
   "cell_type": "code",
   "execution_count": 56,
   "metadata": {},
   "outputs": [
    {
     "name": "stdout",
     "output_type": "stream",
     "text": [
      "True\n"
     ]
    }
   ],
   "source": [
    "print(x != y)"
   ]
  },
  {
   "cell_type": "code",
   "execution_count": 59,
   "metadata": {},
   "outputs": [
    {
     "name": "stdout",
     "output_type": "stream",
     "text": [
      "True\n",
      "True\n",
      "False\n",
      "False\n"
     ]
    }
   ],
   "source": [
    "x = 1\n",
    "y = 2\n",
    "print(x < y)\n",
    "print(x <= y)\n",
    "print(x > y)\n",
    "print(x >= y)"
   ]
  },
  {
   "cell_type": "code",
   "execution_count": 60,
   "metadata": {},
   "outputs": [
    {
     "data": {
      "text/plain": [
       "False"
      ]
     },
     "execution_count": 60,
     "metadata": {},
     "output_type": "execute_result"
    }
   ],
   "source": [
    "# Também podemos combinar mais de uma comparação numa única linha:\n",
    "x = 5.\n",
    "6. < x < 8."
   ]
  },
  {
   "cell_type": "markdown",
   "metadata": {},
   "source": [
    "Se algum dos tipos dos elementos a serem comparados não têm uma ordem predeterminada, ou se forem de tipos que não podem ser comparados, isto gerará um  erro:"
   ]
  },
  {
   "cell_type": "code",
   "execution_count": 126,
   "metadata": {},
   "outputs": [
    {
     "ename": "TypeError",
     "evalue": "'<' not supported between instances of 'complex' and 'complex'",
     "output_type": "error",
     "traceback": [
      "\u001b[0;31m---------------------------------------------------------------------------\u001b[0m",
      "\u001b[0;31mTypeError\u001b[0m                                 Traceback (most recent call last)",
      "Input \u001b[0;32mIn [126]\u001b[0m, in \u001b[0;36m<module>\u001b[0;34m\u001b[0m\n\u001b[1;32m      1\u001b[0m \u001b[38;5;66;03m# Os complexos não têm uma ordem predeterminada, por isto não é possível comparar dois números deste tipo:\u001b[39;00m\n\u001b[0;32m----> 2\u001b[0m \u001b[38;5;241;43m0\u001b[39;49m\u001b[43m \u001b[49m\u001b[38;5;241;43m+\u001b[39;49m\u001b[43m \u001b[49m\u001b[38;5;241;43m1\u001b[39;49m\u001b[43mj\u001b[49m\u001b[43m \u001b[49m\u001b[38;5;241;43m<\u001b[39;49m\u001b[43m \u001b[49m\u001b[38;5;241;43m1\u001b[39;49m\u001b[43m \u001b[49m\u001b[38;5;241;43m+\u001b[39;49m\u001b[43m \u001b[49m\u001b[38;5;241;43m1\u001b[39;49m\u001b[43mj\u001b[49m\n",
      "\u001b[0;31mTypeError\u001b[0m: '<' not supported between instances of 'complex' and 'complex'"
     ]
    }
   ],
   "source": [
    "# Os complexos não têm uma ordem predeterminada, por isto não é possível comparar dois números deste tipo:\n",
    "0 + 1j < 1 + 1j"
   ]
  },
  {
   "cell_type": "code",
   "execution_count": 64,
   "metadata": {},
   "outputs": [
    {
     "data": {
      "text/plain": [
       "True"
      ]
     },
     "execution_count": 64,
     "metadata": {},
     "output_type": "execute_result"
    }
   ],
   "source": [
    "# As palavras têm uma ordem predeterminada, a chamada _ordernação do dicionário_:\n",
    "'aaab' < 'ba'"
   ]
  },
  {
   "cell_type": "code",
   "execution_count": 127,
   "metadata": {},
   "outputs": [
    {
     "data": {
      "text/plain": [
       "True"
      ]
     },
     "execution_count": 127,
     "metadata": {},
     "output_type": "execute_result"
    }
   ],
   "source": [
    "'inter' < 'internacional'"
   ]
  },
  {
   "cell_type": "code",
   "execution_count": 213,
   "metadata": {},
   "outputs": [
    {
     "data": {
      "text/plain": [
       "True"
      ]
     },
     "execution_count": 213,
     "metadata": {},
     "output_type": "execute_result"
    }
   ],
   "source": [
    "# Segundo Python, Inter é maior que Grêmio:\n",
    "'inter' > 'gremio'"
   ]
  },
  {
   "cell_type": "markdown",
   "metadata": {},
   "source": [
    "## Booleanos"
   ]
  },
  {
   "cell_type": "code",
   "execution_count": 71,
   "metadata": {},
   "outputs": [
    {
     "data": {
      "text/plain": [
       "False"
      ]
     },
     "execution_count": 71,
     "metadata": {},
     "output_type": "execute_result"
    }
   ],
   "source": [
    "True and False"
   ]
  },
  {
   "cell_type": "code",
   "execution_count": 72,
   "metadata": {},
   "outputs": [
    {
     "data": {
      "text/plain": [
       "True"
      ]
     },
     "execution_count": 72,
     "metadata": {},
     "output_type": "execute_result"
    }
   ],
   "source": [
    "not False"
   ]
  },
  {
   "cell_type": "code",
   "execution_count": 73,
   "metadata": {},
   "outputs": [
    {
     "data": {
      "text/plain": [
       "True"
      ]
     },
     "execution_count": 73,
     "metadata": {},
     "output_type": "execute_result"
    }
   ],
   "source": [
    "True or False"
   ]
  },
  {
   "cell_type": "code",
   "execution_count": 74,
   "metadata": {},
   "outputs": [
    {
     "data": {
      "text/plain": [
       "20"
      ]
     },
     "execution_count": 74,
     "metadata": {},
     "output_type": "execute_result"
    }
   ],
   "source": [
    "# Uma curiosidade:\n",
    "(True + True) * 10 "
   ]
  },
  {
   "cell_type": "code",
   "execution_count": 78,
   "metadata": {},
   "outputs": [
    {
     "name": "stdout",
     "output_type": "stream",
     "text": [
      "True\n",
      "1\n"
     ]
    }
   ],
   "source": [
    "# Isto porque...\n",
    "print(isinstance(True, int))\n",
    "print(int(True))"
   ]
  },
  {
   "cell_type": "markdown",
   "metadata": {},
   "source": [
    "Além dos tipos numéricos e de caracteres, as listas e tuplas são bastante úteis em computação numérica. Ambos são tipos de _seqüências_, ou seja, de uma coleção _ordenada_ de valores; em ambos os casos, os valores _não_ precisam ter todos o mesmo tipo. A diferença é que listas são _mutáveis_, enquanto tuplas são _imutáveis_. Ou seja, os elementos de listas podem ser modificados, mas os das tuplas, não.\n",
    "\n",
    "Para gerar uma lista, usamos colchetes [], separando cada um de seus elementos por vírgulas.\n",
    "\n",
    "Para gerar uma tupla, usamos parênteses (), separando cada um de seus elementos por vírgulas.\n",
    "\n",
    "Por exemplo:"
   ]
  },
  {
   "cell_type": "code",
   "execution_count": 132,
   "metadata": {},
   "outputs": [
    {
     "name": "stdout",
     "output_type": "stream",
     "text": [
      "5\n",
      "4\n"
     ]
    }
   ],
   "source": [
    "lista = [2, -1, 4]\n",
    "print(sum(lista))\n",
    "\n",
    "tupla = (2, -1, 4)\n",
    "print(max(tupla))"
   ]
  },
  {
   "cell_type": "markdown",
   "metadata": {},
   "source": [
    "## Tipos sequenciais de dados: listas e tuplas"
   ]
  },
  {
   "cell_type": "markdown",
   "metadata": {},
   "source": [
    "Observe o exemplo abaixo em que é criada uma lista de números e, então, os elementos da lista são percorridos e a cada iteração é testado se o número é par ou ímpar, o resultado é impresso na tela.  "
   ]
  },
  {
   "cell_type": "code",
   "execution_count": 133,
   "metadata": {},
   "outputs": [
    {
     "name": "stdout",
     "output_type": "stream",
     "text": [
      "1 é impar\n",
      "2 é par\n",
      "3 é impar\n",
      "4 é par\n",
      "5 é impar\n",
      "6 é par\n",
      "Feito.\n"
     ]
    }
   ],
   "source": [
    "lista_de_numeros = [1, 2, 3, 4, 5, 6]\n",
    "\n",
    "for num in lista_de_numeros:\n",
    "    if num % 2 ==0:\n",
    "        print(num, \"é par\")\n",
    "    else:\n",
    "        print(num, \"é impar\")\n",
    "print (\"Feito.\")"
   ]
  },
  {
   "cell_type": "markdown",
   "metadata": {},
   "source": [
    "Mais alguns exemplos de manipulação de listas:"
   ]
  },
  {
   "cell_type": "code",
   "execution_count": 96,
   "metadata": {},
   "outputs": [
    {
     "name": "stdout",
     "output_type": "stream",
     "text": [
      "8\n"
     ]
    }
   ],
   "source": [
    "x = [10, 1, 2, 3, 4, 5, 6, 7]\n",
    "print (len(x))"
   ]
  },
  {
   "cell_type": "code",
   "execution_count": 134,
   "metadata": {},
   "outputs": [
    {
     "name": "stdout",
     "output_type": "stream",
     "text": [
      "10\n",
      "1\n",
      "2\n",
      "7\n",
      "7\n"
     ]
    }
   ],
   "source": [
    "# Os primeiro índice de uma lista ou tupla é sempre 0, não 1. Podemos acessar o elemento de índice i assim:\n",
    "print(x[0])\n",
    "print(x[1])\n",
    "print(x[2])\n",
    "print(x[-1])\n",
    "print(x[-1])"
   ]
  },
  {
   "cell_type": "code",
   "execution_count": 135,
   "metadata": {},
   "outputs": [
    {
     "data": {
      "text/plain": [
       "[10, 1, 2]"
      ]
     },
     "execution_count": 135,
     "metadata": {},
     "output_type": "execute_result"
    }
   ],
   "source": [
    "x[:3] # Fatia (slice) da lista contendo seus três primeiros elementos."
   ]
  },
  {
   "cell_type": "code",
   "execution_count": 103,
   "metadata": {},
   "outputs": [
    {
     "data": {
      "text/plain": [
       "[3, 4, 5, 6, 7]"
      ]
     },
     "execution_count": 103,
     "metadata": {},
     "output_type": "execute_result"
    }
   ],
   "source": [
    "# Fatia (slice) de x contendo seus elementos a partir do terceiro (ou seja, exceto os de índices 0, 1, 2):\n",
    "x[3:]"
   ]
  },
  {
   "cell_type": "markdown",
   "metadata": {},
   "source": [
    "Outra estrutura de dados iterável são as chamadas tuplas, como no exemplo abaixo."
   ]
  },
  {
   "cell_type": "code",
   "execution_count": 104,
   "metadata": {},
   "outputs": [
    {
     "name": "stdout",
     "output_type": "stream",
     "text": [
      "1\n",
      "2\n",
      "3\n",
      "4\n",
      "5\n",
      "6\n"
     ]
    }
   ],
   "source": [
    "exemplo_de_tupla = (1, 2, 3, 4, 5, 6)\n",
    "\n",
    "for num in exemplo_de_tupla:\n",
    "    print (num)"
   ]
  },
  {
   "cell_type": "code",
   "execution_count": 136,
   "metadata": {},
   "outputs": [
    {
     "name": "stdout",
     "output_type": "stream",
     "text": [
      "[1, 2, 3.0, (4+0j), '5', 'abacaxi']\n",
      "(1, 2, 3.0, (4+0j), '5', 'abacaxi')\n",
      "False\n",
      "[-1, 2, 3.0, (4+0j), '5', 'abacaxi']\n"
     ]
    }
   ],
   "source": [
    "uma_lista = [1, 2, 3.0, 4 + 0j, \"5\",\"abacaxi\"]\n",
    "uma_tupla = (1, 2, 3.0, 4 + 0j, \"5\", 'abacaxi')\n",
    "print(uma_lista)\n",
    "print(uma_tupla)\n",
    "print(uma_lista == uma_tupla)\n",
    "uma_lista[0] = -1\n",
    "print(uma_lista)"
   ]
  },
  {
   "cell_type": "markdown",
   "metadata": {},
   "source": [
    "Para as tuplas, podemos inclusive omitir os parênteses:"
   ]
  },
  {
   "cell_type": "code",
   "execution_count": 140,
   "metadata": {},
   "outputs": [
    {
     "name": "stdout",
     "output_type": "stream",
     "text": [
      "(2, 5, 6, 9, 7, 'brócolis') <class 'tuple'>\n"
     ]
    }
   ],
   "source": [
    "tupla_sem_parenteses = 2, 5, 6, 9, 7, 'brócolis'\n",
    "print(tupla_sem_parenteses, type(tupla_sem_parenteses))"
   ]
  },
  {
   "cell_type": "markdown",
   "metadata": {},
   "source": [
    "As listas e tuplas __NÃO__ são vetores no sentido da Álgebra Linear. Por exemplo, a soma de listas é simplesmente a concatenação. Analogamente, multiplicar uma lista (ou seqüência) por um inteiro positivo $ n $ resulta numa lista consistindo de $ n $ cópias da original, concatenadas uma após a outra. No Notebook seguinte aprenderemos como usar matrizes e vetores."
   ]
  },
  {
   "cell_type": "code",
   "execution_count": 121,
   "metadata": {},
   "outputs": [
    {
     "name": "stdout",
     "output_type": "stream",
     "text": [
      "[1, 2, 3.0, (4+0j), '5', 'abacaxi', -1, -2, -3]\n",
      "[1, 2, 3.0, (4+0j), '5', 'abacaxi', 1, 2, 3.0, (4+0j), '5', 'abacaxi']\n"
     ]
    }
   ],
   "source": [
    "uma_lista = [1, 2, 3.0, 4 + 0j, \"5\",\"abacaxi\"]\n",
    "outra_lista = [-1, -2, -3]\n",
    "a = uma_lista + outra_lista\n",
    "b = uma_lista * 2\n",
    "print(a)\n",
    "print(b)"
   ]
  },
  {
   "cell_type": "code",
   "execution_count": 113,
   "metadata": {},
   "outputs": [
    {
     "data": {
      "text/plain": [
       "[-1, 2, 3.0, (4+0j), '5', 'abacaxi', 10, 4]"
      ]
     },
     "execution_count": 113,
     "metadata": {},
     "output_type": "execute_result"
    }
   ],
   "source": [
    "uma_lista + [10,4]"
   ]
  },
  {
   "cell_type": "markdown",
   "metadata": {},
   "source": [
    "Não faz sentido _multiplicar_ (ou dividir, ou subtrair) duas listas:"
   ]
  },
  {
   "cell_type": "code",
   "execution_count": 117,
   "metadata": {},
   "outputs": [
    {
     "ename": "TypeError",
     "evalue": "can't multiply sequence by non-int of type 'list'",
     "output_type": "error",
     "traceback": [
      "\u001b[0;31m---------------------------------------------------------------------------\u001b[0m",
      "\u001b[0;31mTypeError\u001b[0m                                 Traceback (most recent call last)",
      "Input \u001b[0;32mIn [117]\u001b[0m, in \u001b[0;36m<module>\u001b[0;34m\u001b[0m\n\u001b[0;32m----> 1\u001b[0m \u001b[43muma_lista\u001b[49m\u001b[43m \u001b[49m\u001b[38;5;241;43m*\u001b[39;49m\u001b[43m \u001b[49m\u001b[43muma_lista\u001b[49m\n",
      "\u001b[0;31mTypeError\u001b[0m: can't multiply sequence by non-int of type 'list'"
     ]
    }
   ],
   "source": [
    "uma_lista * uma_lista"
   ]
  },
  {
   "cell_type": "markdown",
   "metadata": {},
   "source": [
    "As seguintes operações são úteis:\n",
    "* Conferir se um elemento está na lista/tupla usando o operador `in`:"
   ]
  },
  {
   "cell_type": "code",
   "execution_count": 141,
   "metadata": {},
   "outputs": [
    {
     "name": "stdout",
     "output_type": "stream",
     "text": [
      "True\n",
      "True\n"
     ]
    }
   ],
   "source": [
    "print(2 in uma_lista)\n",
    "print(2 in uma_tupla)"
   ]
  },
  {
   "cell_type": "markdown",
   "metadata": {},
   "source": [
    "* Saber quantos  elementos tem, usando `len` (abreviação de _length_, i.e., comprimento):"
   ]
  },
  {
   "cell_type": "code",
   "execution_count": 142,
   "metadata": {},
   "outputs": [
    {
     "data": {
      "text/plain": [
       "6"
      ]
     },
     "execution_count": 142,
     "metadata": {},
     "output_type": "execute_result"
    }
   ],
   "source": [
    "len(uma_lista)\n",
    "len(uma_tupla)"
   ]
  },
  {
   "cell_type": "markdown",
   "metadata": {},
   "source": [
    "* Adicionar elementos ao _final_ de uma _lista_ (mas não de uma tupla, que é imutável), usando a função `append`:"
   ]
  },
  {
   "cell_type": "code",
   "execution_count": 143,
   "metadata": {},
   "outputs": [
    {
     "name": "stdout",
     "output_type": "stream",
     "text": [
      "[-1, 2, 3.0, (4+0j), '5', 'abacaxi', -14]\n"
     ]
    }
   ],
   "source": [
    "uma_lista.append(-14)\n",
    "print(uma_lista)"
   ]
  },
  {
   "cell_type": "markdown",
   "metadata": {},
   "source": [
    "* Excluir um elemento de uma _lista_ (mas não de uma tupla) usando a função `remove`. Se a lista contém o elemento múltiplas vezes, `remove`  eliminará somente o primeiro. Se a lista não contém o elemento, um erro resultará."
   ]
  },
  {
   "cell_type": "code",
   "execution_count": 144,
   "metadata": {},
   "outputs": [
    {
     "name": "stdout",
     "output_type": "stream",
     "text": [
      "[-1, 2, 3.0, (4+0j), '5', 'abacaxi']\n"
     ]
    }
   ],
   "source": [
    "uma_lista.remove(-14)\n",
    "print(uma_lista)"
   ]
  },
  {
   "cell_type": "markdown",
   "metadata": {},
   "source": [
    "* Excluir um elemento de uma _lista_ (mas não de uma tupla) de acordo a posição dele na lista usando a função `pop`. A principal diferença entre `remove` e `pop` é que `pop` usa o _índice_ e `remove` o valor de um elemento para removê-lo da lista. (Outra diferença é que `pop` retorna o elemento removido, enquanto `remove` retorna `None`)."
   ]
  },
  {
   "cell_type": "code",
   "execution_count": 153,
   "metadata": {},
   "outputs": [
    {
     "name": "stdout",
     "output_type": "stream",
     "text": [
      "[1, 2, 3.0, (4+0j), '5', 'abacaxi']\n",
      "(4+0j)\n",
      "[1, 2, 3.0, '5', 'abacaxi']\n",
      "None\n",
      "[2, 3.0, '5', 'abacaxi']\n"
     ]
    }
   ],
   "source": [
    "uma_lista = [1, 2, 3.0, 4 + 0j, \"5\",\"abacaxi\"]\n",
    "print(uma_lista)\n",
    "print(uma_lista.pop(3)) # Elimina o elemento na posição 3 começando de 0; isto é, elimina o quarto elemento da lista\n",
    "print(uma_lista)\n",
    "print(uma_lista.remove(1))\n",
    "print(uma_lista)"
   ]
  },
  {
   "cell_type": "markdown",
   "metadata": {},
   "source": [
    "__Os comandos 'remove', 'pop' e 'append' não podem ser usados em tuplas, apenas em listas, pois as tuplas não podem ser modificadas, uma vez definidas!__"
   ]
  },
  {
   "cell_type": "markdown",
   "metadata": {},
   "source": [
    "* Selecionar elementos da lista. __IMPORTANTE: Em Python, os índices començam por ZERO!__"
   ]
  },
  {
   "cell_type": "code",
   "execution_count": 156,
   "metadata": {},
   "outputs": [
    {
     "name": "stdout",
     "output_type": "stream",
     "text": [
      "1\n",
      "2\n",
      "[1, 2, 3.0, (4+0j)]\n",
      "[1, 2, 3.0]\n",
      "abacaxi\n",
      "5\n",
      "[1, 2, 3.0, (4+0j), '5', 'abacaxi']\n",
      "[1, 3.0, '5']\n"
     ]
    }
   ],
   "source": [
    "uma_lista = [1, 2, 3.0, 4 + 0j, \"5\",\"abacaxi\"]\n",
    "print(uma_lista[0])  # Primeiro elemento, 1\n",
    "print(uma_lista[1])  # Segundo elemento, 2\n",
    "print(uma_lista[0:4])  # Fatia (slice) desde o zeroésimo (inclusive) até o quarto (exclusive).\n",
    "print(uma_lista[:3])  # Fatia (slice) desde o zeroésimo (inclusive) até o terceiro (exclusive).\n",
    "print(uma_lista[-1])  # Ultimo elemento\n",
    "print(uma_lista[-2])  # Penúltimo elemento\n",
    "print(uma_lista[:])  # Desde o primeiro até o último, ou seja, [:] é usado para efetuar uma _cópia_.\n",
    "print(uma_lista[::2])  # Desde o primeiro até o último, incrementando os índices de 2 em 2."
   ]
  },
  {
   "cell_type": "markdown",
   "metadata": {},
   "source": [
    "* Finalmente, podemos redefinir objetos em listas (mas não em tuplas):"
   ]
  },
  {
   "cell_type": "code",
   "execution_count": 181,
   "metadata": {},
   "outputs": [
    {
     "name": "stdout",
     "output_type": "stream",
     "text": [
      "[1, 2, 3.0, 'o fim deste notebook', '5', 'abacaxi']\n",
      "[1, 2, 3.0, 'o fim deste notebook', '5', 'abacaxi']\n"
     ]
    }
   ],
   "source": [
    "print(uma_lista)\n",
    "\n",
    "uma_lista[3] = 'o fim deste notebook'\n",
    "print(uma_lista)"
   ]
  },
  {
   "cell_type": "markdown",
   "metadata": {
    "cell_tags": []
   },
   "source": [
    "## Definindo uma função"
   ]
  },
  {
   "cell_type": "markdown",
   "metadata": {},
   "source": [
    "Começamos por definir uma função que converta  graus Fahrenheit a Kelvin. Lembrar que: \n",
    "\n",
    "$$ T(K) = (T(°F) - 32) \\cdot 5/9 + 273.15 $$"
   ]
  },
  {
   "cell_type": "code",
   "execution_count": 182,
   "metadata": {
    "cell_tags": []
   },
   "outputs": [],
   "source": [
    "def fahr_to_kelvin(temp):                    # temp denota o (único, neste caso) parâmetro da função.\n",
    "    converted_temp = ((temp - 32) * (5/9)) + 273.15\n",
    "    return converted_temp                    # A declaração `return` provê o resultado da aplicação da função."
   ]
  },
  {
   "cell_type": "code",
   "execution_count": 183,
   "metadata": {
    "cell_tags": []
   },
   "outputs": [
    {
     "name": "stdout",
     "output_type": "stream",
     "text": [
      "Temperatura de congelamento em Kelvin: 273.15\n",
      "Temperatura de ebulição em Kelvin: 373.15\n"
     ]
    }
   ],
   "source": [
    "# Ponto de congelamento da água 32 F\n",
    "print(\"Temperatura de congelamento em Kelvin:\", fahr_to_kelvin(32))\n",
    "# Ponto de ebulição da água 212 F\n",
    "print(\"Temperatura de ebulição em Kelvin:\", fahr_to_kelvin(212))"
   ]
  },
  {
   "cell_type": "markdown",
   "metadata": {},
   "source": [
    "Vemos que uma função é definida començando com a palavra-chave `def`, seguida do nome que queremos dar à função e, entre parênteses, o(s) argumento(s) de entrada. Esta primeira linha da declaração função deve terminar com dois pontos `:`.\n",
    "\n",
    "Depois, no chamado _corpo_ da função, que deve ser indentado usando quatro espaços, podemos incluir as declarações/computações/processos que quisermos e por fim terminar a declaração com `return` e o(s) valor(es) de saída. A função pode não retornar nada; neste caso não é necessário usar `return`. A definição da função termina quando a indentação volta a seu nível inicial."
   ]
  },
  {
   "cell_type": "markdown",
   "metadata": {},
   "source": [
    "## Funções que chamam outras funções"
   ]
  },
  {
   "cell_type": "markdown",
   "metadata": {},
   "source": [
    "Podemos definir funções que chamem outras, desde que estas já estejam criadas no momento de serem chamadas:"
   ]
  },
  {
   "cell_type": "code",
   "execution_count": 184,
   "metadata": {},
   "outputs": [],
   "source": [
    "def kelvin_to_celsius(temp):\n",
    "    return temp - 273.15"
   ]
  },
  {
   "cell_type": "code",
   "execution_count": 185,
   "metadata": {
    "cell_tags": []
   },
   "outputs": [
    {
     "name": "stdout",
     "output_type": "stream",
     "text": [
      "Zero absoluto em Celsius: -271.15\n"
     ]
    }
   ],
   "source": [
    "print('Zero absoluto em Celsius:', kelvin_to_celsius(2.0))"
   ]
  },
  {
   "cell_type": "markdown",
   "metadata": {},
   "source": [
    "Se agora quisermos converter de Farenheit a Celsius, podemos usar as duas funções que já tinhamos definido anteriormente. Ao definir funções, é muito importante _documentá-la_, isto é, dar uma descrição do que ela faz, de quais são os (tipos dos) parâmetros, dos valores que ela retorna, e, especialmente, do que ela realiza (ou seja, de qual tarefa executa). Esta descrição deve ser incluída entre conjuntos de três aspas duplas `\"\"\"`, um no início, outro no fim da descrição. Estes comentários são ignorados pelo interpretador."
   ]
  },
  {
   "cell_type": "code",
   "execution_count": 204,
   "metadata": {
    "cell_tags": []
   },
   "outputs": [
    {
     "name": "stdout",
     "output_type": "stream",
     "text": [
      "Ponto de congelamento da água em Celsius: 0.0\n"
     ]
    }
   ],
   "source": [
    "def fahr_to_celsius(temp):\n",
    "    \"\"\"Esta função transforma de graus Farenheit a Celsius.\n",
    "    É importante se voce está olhando um filme dos Estados Unidos\n",
    "    ou lendo um artigo com estas unidades.\n",
    "    Exemplo: fahr_to_celsius(1.0) = 1.1111111111110858\"\"\"\n",
    "    temp_k = fahr_to_kelvin(temp)\n",
    "    result = kelvin_to_celsius(temp_k)\n",
    "    return result\n",
    "\n",
    "print('Ponto de congelamento da água em Celsius:', fahr_to_celsius(32.0))"
   ]
  },
  {
   "cell_type": "markdown",
   "metadata": {},
   "source": [
    "Para obter a documentação de uma função, utilize `?` antes do seu nome:"
   ]
  },
  {
   "cell_type": "code",
   "execution_count": 205,
   "metadata": {},
   "outputs": [],
   "source": [
    "?fahr_to_celsius"
   ]
  },
  {
   "cell_type": "markdown",
   "metadata": {},
   "source": [
    "---\n",
    "_As células seguintes contêm comandos de configuração do Notebook_.\n",
    "\n",
    "_Para visualizar y utlizar los enlaces a Twitter el notebook debe ejecutarse como [seguro](http://ipython.org/ipython-doc/dev/notebook/security.html)_\n",
    "\n",
    "    File > Trusted Notebook"
   ]
  },
  {
   "cell_type": "markdown",
   "metadata": {},
   "source": [
    "(__Este Nootebook está baseado na versão em espanhol do minicurso de Aeropython desenvolvido por Juan Luis Cano, Mabel Delgado, Alejandro Sáez da Universidade de Alicante, e cujo notebook original pode ser descarregado no link https://github.com/AeroPython/Curso_AeroPython, e foi modificado por Oscar Márquez para fins acadêmicos__)"
   ]
  },
  {
   "cell_type": "code",
   "execution_count": null,
   "metadata": {},
   "outputs": [],
   "source": []
  }
 ],
 "metadata": {
  "kernelspec": {
   "display_name": "Python 3 (ipykernel)",
   "language": "python",
   "name": "python3"
  },
  "language_info": {
   "codemirror_mode": {
    "name": "ipython",
    "version": 3
   },
   "file_extension": ".py",
   "mimetype": "text/x-python",
   "name": "python",
   "nbconvert_exporter": "python",
   "pygments_lexer": "ipython3",
   "version": "3.9.2"
  }
 },
 "nbformat": 4,
 "nbformat_minor": 2
}
