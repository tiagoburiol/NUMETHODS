{
 "cells": [
  {
   "cell_type": "markdown",
   "metadata": {},
   "source": [
    "# 0.1 O Básico Sobre Python\n",
    "\n",
    "Python é uma linguagem de programação que suporta os três principais paradigmas atuais para desenvolvimento de software:\n",
    "\n",
    "* Programação orientada a objetos (_object oriented programming_, mais conhecida como _OOP_)\n",
    "* Programação funcional (_functional programming_, ou _FP_)\n",
    "* Programação imperativa (_imperative programming_, ou _IP_)\n",
    "\n",
    "Python começou a ser desenvolvido em 1989 por Guido van Rossum como uma linguagem de script e hoje em dia é uma das linguagens de programaçao mais populares. Em seu estado atual, é uma excelente linguagem para o desenvolvimento de aplicações e protótipos para computação científica e engenharia. Também é conhecida por ser de fácil e rápido aprendizado, com uma sintaxe muito simples.\n",
    "\n",
    "Os programas Python, em geral, não são diretamente compilados em código de máquina, mas sim executados por um programa auxiliar, chamado de interpretador (_interpreter_). Em contraste, as linguagens C, Java e Fortran são todas compiladas.\n",
    "\n",
    "A grande vantagem de uma linguagem interpretada é que os programas podem ser testados e depurados mais facilmente, por não requerer os passos adicionais: compilar, vincular e executar após cada correção. Os programas Python podem ser desenvolvidos em tempo muito mais curto do que os programas Fortran ou C equivalentes. Uma desvantagem é que os programas interpretados não produzem aplicativos executáveis _autônomos_; para se executar um determinado script Python, é necessário que o computador do usuário também possua o interpretador Python instalado.\n",
    "\n",
    "Python também tem outras vantagens sobre algumas das liguagens mais utilizadas que são importantes em um ambiente de aprendizagem: \n",
    "* É _livre_ e de _código aberto_ (_free_ e _open source_); em particular é gratuito; \n",
    "* Está incluso na maioria das distribuições Linux e disponível para a maioria dos sitemas operacionais. Além disto, um programa Python pode ser executado em diferentes sistemas sem necessitar de modificações;\n",
    "* É fácil de aprender e produz códigos mais legíveis que a maioria das linguagens de programação;\n",
    "* Suas extensões são fáceis de se instalar e usar;\n",
    "* Implementa conceitos comuns à orientação a objetos, tais como: classes, métodos, instâncias, etc;\n",
    "\n",
    "\n",
    "## Tipos de dados e operações básicas\n",
    "\n",
    "Os principais tipos de dados primitivos (já embutidos no núcleo da linguagem) disponíveis em Python são:\n",
    "\n",
    "* Booleanos (**bool**), que só pode assumir os valores **True** (verdadeiro) e **False** (falso);\n",
    "* Numéricos, como **int**, **long**, **float** e **complex**;\n",
    "* Cadeias de caracteres (**str**, abreviação de _string_);\n",
    "* Seqüências: listas (**list**), tuplas (**tuple**) e range (**range**);\n",
    "* Associações/dicionários (**dict**);\n",
    "* Conjuntos (**set**).\n",
    "\n",
    "Além destes e de mais alguns outros, existem os tipos de dados que podem ser definidos pelo usuário. \n",
    "\n",
    "Os dados são armazenados em **variáveis** e podem ser processados usando funções ou operadores. Python usa *tipagem dinâmica*, o que significa que uma variável pode mudar o tipo do dado que armazena dinamicamente, ou seja, no decorrer do programa. O exemplo abaixo mostra algumas operações e mudanças do tipo de dados armazenados.\n",
    "\n",
    "**EXEMPLO 1**"
   ]
  },
  {
   "cell_type": "code",
   "execution_count": 4,
   "metadata": {},
   "outputs": [
    {
     "name": "stdout",
     "output_type": "stream",
     "text": [
      "Tipo e valor da variável a: True <class 'bool'>\n",
      "Tipo e valor da variável a: 3.1 <class 'float'>\n",
      "Tipo e valor da variável b: 2.2 <class 'float'>\n",
      "Tipo e valor da variável c: 7.5 <class 'float'>\n"
     ]
    }
   ],
   "source": [
    "a = True\n",
    "print (\"Tipo e valor da variável a:\", a, type(a))\n",
    "\n",
    "a = 3.1\n",
    "print (\"Tipo e valor da variável a:\", a, type(a))\n",
    "\n",
    "b = 2.2\n",
    "print (\"Tipo e valor da variável b:\", b, type(b))\n",
    "\n",
    "c = a + 2*b\n",
    "print (\"Tipo e valor da variável c:\", c, type(c))"
   ]
  },
  {
   "cell_type": "markdown",
   "metadata": {},
   "source": [
    "Os operadores aritméticos usados em Python são\n",
    "\n",
    "<img src=\"https://github.com/tiagoburiol/NUMETHODS/raw/master/0_PYTHON_NUMERICO_BASICO/imagens/operadores_relacionais.jpg\" width=\"440\">\n",
    "\n",
    "Os operadores lógicos são **and**, **or** e **not**."
   ]
  },
  {
   "cell_type": "markdown",
   "metadata": {},
   "source": [
    "O exemplo a seguir mostra algumas mudanças do tipo de dado armazenado em uma única variável.\n",
    "\n",
    "**EXEMPLO 2**"
   ]
  },
  {
   "cell_type": "code",
   "execution_count": 2,
   "metadata": {},
   "outputs": [
    {
     "name": "stdout",
     "output_type": "stream",
     "text": [
      "7 <class 'int'>\n",
      "2.3333333333333335 <class 'float'>\n",
      "2 <class 'int'>\n",
      "(2+0j) <class 'complex'>\n",
      "(2+0j) <class 'str'>\n"
     ]
    }
   ],
   "source": [
    "x = 7\n",
    "print(x,type(x))\n",
    "\n",
    "x = 7/3\n",
    "print(x,type(x))\n",
    "\n",
    "x = int(x)\n",
    "print(x,type(x))\n",
    "\n",
    "x = complex(x)\n",
    "print(x,type(x))\n",
    "\n",
    "x = str(x)\n",
    "print(x,type(x))"
   ]
  },
  {
   "cell_type": "markdown",
   "metadata": {},
   "source": [
    "## Introdução à sintaxe Python"
   ]
  },
  {
   "cell_type": "markdown",
   "metadata": {},
   "source": [
    "Faremos uma rápida introdução à sintaxe Python. Veremos os tipos numéricos básicos e como se comportam ao operar com eles.\n"
   ]
  },
  {
   "cell_type": "markdown",
   "metadata": {},
   "source": [
    "### Tipos numéricos"
   ]
  },
  {
   "cell_type": "markdown",
   "metadata": {},
   "source": [
    "Python possui os tipos numéricos e  operações mais habituais:"
   ]
  },
  {
   "cell_type": "code",
   "execution_count": 3,
   "metadata": {},
   "outputs": [
    {
     "data": {
      "text/plain": [
       "7.0"
      ]
     },
     "execution_count": 3,
     "metadata": {},
     "output_type": "execute_result"
    }
   ],
   "source": [
    "2 * 4 - (7 - 1) / 3 + 1.0 "
   ]
  },
  {
   "cell_type": "markdown",
   "metadata": {},
   "source": [
    "As divisões por zero geram um erro:"
   ]
  },
  {
   "cell_type": "code",
   "execution_count": 4,
   "metadata": {},
   "outputs": [
    {
     "ename": "ZeroDivisionError",
     "evalue": "division by zero",
     "output_type": "error",
     "traceback": [
      "\u001b[1;31m---------------------------------------------------------------------------\u001b[0m",
      "\u001b[1;31mZeroDivisionError\u001b[0m                         Traceback (most recent call last)",
      "\u001b[1;32m<ipython-input-4-b971f1464605>\u001b[0m in \u001b[0;36m<module>\u001b[1;34m()\u001b[0m\n\u001b[1;32m----> 1\u001b[1;33m \u001b[1;36m1\u001b[0m \u001b[1;33m/\u001b[0m \u001b[1;36m0\u001b[0m\u001b[1;33m\u001b[0m\u001b[0m\n\u001b[0m",
      "\u001b[1;31mZeroDivisionError\u001b[0m: division by zero"
     ]
    }
   ],
   "source": [
    "1 / 0 "
   ]
  },
  {
   "cell_type": "code",
   "execution_count": 5,
   "metadata": {},
   "outputs": [
    {
     "ename": "ZeroDivisionError",
     "evalue": "float division by zero",
     "output_type": "error",
     "traceback": [
      "\u001b[1;31m---------------------------------------------------------------------------\u001b[0m",
      "\u001b[1;31mZeroDivisionError\u001b[0m                         Traceback (most recent call last)",
      "\u001b[1;32m<ipython-input-5-d5317764bbf2>\u001b[0m in \u001b[0;36m<module>\u001b[1;34m()\u001b[0m\n\u001b[1;32m----> 1\u001b[1;33m \u001b[1;36m1.0\u001b[0m \u001b[1;33m/\u001b[0m \u001b[1;36m0.0\u001b[0m\u001b[1;33m\u001b[0m\u001b[0m\n\u001b[0m",
      "\u001b[1;31mZeroDivisionError\u001b[0m: float division by zero"
     ]
    }
   ],
   "source": [
    "1.0 / 0.0"
   ]
  },
  {
   "cell_type": "markdown",
   "metadata": {},
   "source": [
    "A divisão entre inteiros em Python 3 resulta em  um número real."
   ]
  },
  {
   "cell_type": "code",
   "execution_count": 6,
   "metadata": {},
   "outputs": [
    {
     "data": {
      "text/plain": [
       "2.3333333333333335"
      ]
     },
     "execution_count": 6,
     "metadata": {},
     "output_type": "execute_result"
    }
   ],
   "source": [
    "7 / 3"
   ]
  },
  {
   "cell_type": "markdown",
   "metadata": {},
   "source": [
    "Pode-se forçar para que o resultado da divisão seja inteiro em Python 3 com o operador `//` (observe que o resultado é obtido através de truncamento, i.e., é o maior inteiro menor ou igual ao quociente): "
   ]
  },
  {
   "cell_type": "code",
   "execution_count": 7,
   "metadata": {},
   "outputs": [
    {
     "data": {
      "text/plain": [
       "2"
      ]
     },
     "execution_count": 7,
     "metadata": {},
     "output_type": "execute_result"
    }
   ],
   "source": [
    "7 // 3"
   ]
  },
  {
   "cell_type": "markdown",
   "metadata": {},
   "source": [
    "Pode-se fazer um número elevado  a otro com o operador `**`:"
   ]
  },
  {
   "cell_type": "code",
   "execution_count": 8,
   "metadata": {},
   "outputs": [
    {
     "data": {
      "text/plain": [
       "65536"
      ]
     },
     "execution_count": 8,
     "metadata": {},
     "output_type": "execute_result"
    }
   ],
   "source": [
    "2 ** 16"
   ]
  },
  {
   "cell_type": "markdown",
   "metadata": {},
   "source": [
    "Outro tipo de dado útil são os números complexos:"
   ]
  },
  {
   "cell_type": "code",
   "execution_count": 9,
   "metadata": {},
   "outputs": [
    {
     "data": {
      "text/plain": [
       "(2+3j)"
      ]
     },
     "execution_count": 9,
     "metadata": {},
     "output_type": "execute_result"
    }
   ],
   "source": [
    "2 + 3j"
   ]
  },
  {
   "cell_type": "code",
   "execution_count": 10,
   "metadata": {},
   "outputs": [
    {
     "data": {
      "text/plain": [
       "1j"
      ]
     },
     "execution_count": 10,
     "metadata": {},
     "output_type": "execute_result"
    }
   ],
   "source": [
    "1j"
   ]
  },
  {
   "cell_type": "code",
   "execution_count": 11,
   "metadata": {},
   "outputs": [
    {
     "name": "stdout",
     "output_type": "stream",
     "text": [
      "3.605551275463989\n",
      "5.5\n"
     ]
    }
   ],
   "source": [
    "# módulo de um número real ou complexo\n",
    "a= abs(2 + 3j)\n",
    "b =abs(-5.5)\n",
    "\n",
    "print(a)\n",
    "print(b)"
   ]
  },
  {
   "cell_type": "markdown",
   "metadata": {},
   "source": [
    "<div class=\"alert alert-info\"><strong>Dica de Jupyter</strong>: podemos recuperar resultados passados usando `_<n>`. Por exemplo, para recuperar o resultado correspondente a `Out [11]`, usaríamos `_11`. Esta variável guarda esse valor para toda a sessão.</div>"
   ]
  },
  {
   "cell_type": "code",
   "execution_count": 13,
   "metadata": {},
   "outputs": [
    {
     "data": {
      "text/plain": [
       "3.605551275463989"
      ]
     },
     "execution_count": 13,
     "metadata": {},
     "output_type": "execute_result"
    }
   ],
   "source": [
    "abs(_9)"
   ]
  },
  {
   "cell_type": "markdown",
   "metadata": {},
   "source": [
    "Podemos __converter variáveis__ a `int, float, complex, str`..."
   ]
  },
  {
   "cell_type": "code",
   "execution_count": null,
   "metadata": {
    "collapsed": true
   },
   "outputs": [],
   "source": [
    "a= 18.6\n",
    "\n",
    "b =int(18.6)\n",
    "#neste caso 'a' é uma varíavel de tipo float, enquanto b é uma variável de tipo int\n",
    "print(a, b)"
   ]
  },
  {
   "cell_type": "code",
   "execution_count": null,
   "metadata": {
    "collapsed": true
   },
   "outputs": [],
   "source": [
    "round(18.6)"
   ]
  },
  {
   "cell_type": "code",
   "execution_count": null,
   "metadata": {
    "collapsed": true
   },
   "outputs": [],
   "source": [
    "float(1)"
   ]
  },
  {
   "cell_type": "code",
   "execution_count": null,
   "metadata": {
    "collapsed": true
   },
   "outputs": [],
   "source": [
    "complex(2)"
   ]
  },
  {
   "cell_type": "code",
   "execution_count": null,
   "metadata": {
    "collapsed": true
   },
   "outputs": [],
   "source": [
    "str(256568)  #variável de tipo string."
   ]
  },
  {
   "cell_type": "markdown",
   "metadata": {},
   "source": [
    "Podemos __verificar o tipo de uma variável__:"
   ]
  },
  {
   "cell_type": "code",
   "execution_count": null,
   "metadata": {
    "collapsed": true
   },
   "outputs": [],
   "source": [
    "a = 2.\n",
    "type(a)"
   ]
  },
  {
   "cell_type": "code",
   "execution_count": null,
   "metadata": {
    "collapsed": true
   },
   "outputs": [],
   "source": [
    "isinstance(a, float)"
   ]
  },
  {
   "cell_type": "markdown",
   "metadata": {},
   "source": [
    "Outras funções úteis são:"
   ]
  },
  {
   "cell_type": "code",
   "execution_count": null,
   "metadata": {
    "collapsed": true
   },
   "outputs": [],
   "source": [
    "print('Bem vindos ao curso de cálculo numérico')"
   ]
  },
  {
   "cell_type": "code",
   "execution_count": null,
   "metadata": {
    "collapsed": true
   },
   "outputs": [],
   "source": [
    "max(1,5,8,7)"
   ]
  },
  {
   "cell_type": "code",
   "execution_count": null,
   "metadata": {
    "collapsed": true
   },
   "outputs": [],
   "source": [
    "min(-1,1,0)"
   ]
  },
  {
   "cell_type": "markdown",
   "metadata": {},
   "source": [
    "__¡Este é o modo de usar funções!__ Observe a sintaxe padrão: os argumentos se colocam  entre parênteses e se separam com vírgulas."
   ]
  },
  {
   "cell_type": "markdown",
   "metadata": {},
   "source": [
    "<div class=\"alert alert-warning\">A <strong>função <code>print</code></strong> é usada para imprimir resultados na  tela. Se você tem algum amigo que compartilha um arquivo em Python 2 poderá ver que a sintaxe mudou um pouco, pois Python 2 não  usa parênteses e não tinha a possibilidade de usar argumentos adicionais.</div>"
   ]
  },
  {
   "cell_type": "markdown",
   "metadata": {},
   "source": [
    "## Atribuição e  operadores de comparação"
   ]
  },
  {
   "cell_type": "markdown",
   "metadata": {},
   "source": [
    "Para atribuir um nome a um objeto (resultado de um cálculo, string, lista, matriz...) usa-se o operador `=`. Os nomes das variáveis em Python podem conter caracteres alfanuméricos (começando com uma letra) a-z, A-Z, 0-9 e outros símbolos como  \\_. \n",
    "\n",
    "Por questões de estilo, as variáveis costumam começar com letra minúscula, reservando a maiúscula para classes. \n",
    "\n",
    "Alguns nomes já  estão predeterminados por Python, por isso  não podem ser usados, por exemplo:\n",
    "\n",
    "    and, as, assert, break, class, continue, def, del, elif, else, except, exec, finally, for, from, global, if, import, in, is, lambda, not, or, pass, print, raise, return, try, while, with, yield"
   ]
  },
  {
   "cell_type": "code",
   "execution_count": null,
   "metadata": {
    "collapsed": true
   },
   "outputs": [],
   "source": [
    "a = 1 + 2j"
   ]
  },
  {
   "cell_type": "markdown",
   "metadata": {},
   "source": [
    "Em Python __a atribuição não imprime o resultado na tela__. Para visualizar a variável, uma forma sería usar o comando print, ou também poderíamos escrever:"
   ]
  },
  {
   "cell_type": "code",
   "execution_count": null,
   "metadata": {
    "collapsed": true
   },
   "outputs": [],
   "source": [
    "b = 3.14159\n",
    "b"
   ]
  },
  {
   "cell_type": "markdown",
   "metadata": {},
   "source": [
    "Em uma celula __podemos escrever códigos que ocupem varias linhas__."
   ]
  },
  {
   "cell_type": "code",
   "execution_count": 17,
   "metadata": {},
   "outputs": [
    {
     "data": {
      "text/plain": [
       "(1, 2)"
      ]
     },
     "execution_count": 17,
     "metadata": {},
     "output_type": "execute_result"
    }
   ],
   "source": [
    "x, y = 1, 2\n",
    "x, y"
   ]
  },
  {
   "cell_type": "markdown",
   "metadata": {},
   "source": [
    "<div class=\"alert alert-info\">Podemos fazer **atribuição múltipla**, para intercambiar os valores das variáveis `x` e `y` de maneira intuitiva:</div>"
   ]
  },
  {
   "cell_type": "code",
   "execution_count": null,
   "metadata": {
    "collapsed": true
   },
   "outputs": [],
   "source": [
    "x, y = y, x\n",
    "x, y"
   ]
  },
  {
   "cell_type": "markdown",
   "metadata": {},
   "source": [
    "Operadores de comparação:\n",
    "\n",
    "* `==` igual à\n",
    "* `!=` diferente de (também se costuma usar `<>` no caso numérico)\n",
    "* `<` menor que\n",
    "* `<=` menor ou igual \n",
    "\n",
    "Retornam um valor booleano: `True` ou `False`"
   ]
  },
  {
   "cell_type": "code",
   "execution_count": null,
   "metadata": {
    "collapsed": true
   },
   "outputs": [],
   "source": [
    "x == y"
   ]
  },
  {
   "cell_type": "code",
   "execution_count": 18,
   "metadata": {},
   "outputs": [
    {
     "data": {
      "text/plain": [
       "True"
      ]
     },
     "execution_count": 18,
     "metadata": {},
     "output_type": "execute_result"
    }
   ],
   "source": [
    "1+2==3"
   ]
  },
  {
   "cell_type": "code",
   "execution_count": 19,
   "metadata": {},
   "outputs": [
    {
     "name": "stdout",
     "output_type": "stream",
     "text": [
      "True\n"
     ]
    }
   ],
   "source": [
    "print(x != y)"
   ]
  },
  {
   "cell_type": "code",
   "execution_count": 20,
   "metadata": {},
   "outputs": [
    {
     "name": "stdout",
     "output_type": "stream",
     "text": [
      "True\n",
      "True\n",
      "False\n",
      "False\n"
     ]
    }
   ],
   "source": [
    "print(x < y)\n",
    "print(x <= y)\n",
    "print(x > y)\n",
    "print(x >= y)"
   ]
  },
  {
   "cell_type": "code",
   "execution_count": 21,
   "metadata": {},
   "outputs": [
    {
     "data": {
      "text/plain": [
       "False"
      ]
     },
     "execution_count": 21,
     "metadata": {},
     "output_type": "execute_result"
    }
   ],
   "source": [
    "# também:\n",
    "x = 5.\n",
    "6. < x < 8."
   ]
  },
  {
   "cell_type": "markdown",
   "metadata": {},
   "source": [
    "Se os elementos não tem uma ordem predeterminada retornará um  erro:"
   ]
  },
  {
   "cell_type": "code",
   "execution_count": 22,
   "metadata": {},
   "outputs": [
    {
     "ename": "TypeError",
     "evalue": "'<' not supported between instances of 'complex' and 'complex'",
     "output_type": "error",
     "traceback": [
      "\u001b[1;31m---------------------------------------------------------------------------\u001b[0m",
      "\u001b[1;31mTypeError\u001b[0m                                 Traceback (most recent call last)",
      "\u001b[1;32m<ipython-input-22-c725234c5c18>\u001b[0m in \u001b[0;36m<module>\u001b[1;34m()\u001b[0m\n\u001b[1;32m----> 1\u001b[1;33m \u001b[1;36m1\u001b[0m \u001b[1;33m+\u001b[0m \u001b[1;36m1j\u001b[0m \u001b[1;33m<\u001b[0m \u001b[1;36m0\u001b[0m \u001b[1;33m+\u001b[0m \u001b[1;36m1j\u001b[0m  \u001b[1;31m# Os números complexos não tem uma ordem predeterminada, por isso não é possível\u001b[0m\u001b[1;33m\u001b[0m\u001b[0m\n\u001b[0m\u001b[0;32m      2\u001b[0m                     \u001b[1;31m#comparar dois números complexos\u001b[0m\u001b[1;33m\u001b[0m\u001b[1;33m\u001b[0m\u001b[0m\n",
      "\u001b[1;31mTypeError\u001b[0m: '<' not supported between instances of 'complex' and 'complex'"
     ]
    }
   ],
   "source": [
    "1 + 1j < 0 + 1j  # Os números complexos não tem uma ordem predeterminada, por isso não é possível\n",
    "                    #comparar dois números complexos"
   ]
  },
  {
   "cell_type": "code",
   "execution_count": 23,
   "metadata": {},
   "outputs": [
    {
     "data": {
      "text/plain": [
       "False"
      ]
     },
     "execution_count": 23,
     "metadata": {},
     "output_type": "execute_result"
    }
   ],
   "source": [
    "# As palavras tem uma ordem predeterminada, como no diccionário:\n",
    "'aaab' > 'ba'"
   ]
  },
  {
   "cell_type": "code",
   "execution_count": 24,
   "metadata": {},
   "outputs": [
    {
     "data": {
      "text/plain": [
       "True"
      ]
     },
     "execution_count": 24,
     "metadata": {},
     "output_type": "execute_result"
    }
   ],
   "source": [
    " 'inter'<'internacional' #'inter' é um sufixo de internacional"
   ]
  },
  {
   "cell_type": "markdown",
   "metadata": {},
   "source": [
    "## Booleanos"
   ]
  },
  {
   "cell_type": "code",
   "execution_count": 25,
   "metadata": {},
   "outputs": [
    {
     "data": {
      "text/plain": [
       "False"
      ]
     },
     "execution_count": 25,
     "metadata": {},
     "output_type": "execute_result"
    }
   ],
   "source": [
    "True and False"
   ]
  },
  {
   "cell_type": "code",
   "execution_count": 26,
   "metadata": {},
   "outputs": [
    {
     "data": {
      "text/plain": [
       "True"
      ]
     },
     "execution_count": 26,
     "metadata": {},
     "output_type": "execute_result"
    }
   ],
   "source": [
    "not False"
   ]
  },
  {
   "cell_type": "code",
   "execution_count": 27,
   "metadata": {},
   "outputs": [
    {
     "data": {
      "text/plain": [
       "True"
      ]
     },
     "execution_count": 27,
     "metadata": {},
     "output_type": "execute_result"
    }
   ],
   "source": [
    "True or False"
   ]
  },
  {
   "cell_type": "code",
   "execution_count": 28,
   "metadata": {},
   "outputs": [
    {
     "data": {
      "text/plain": [
       "20"
      ]
     },
     "execution_count": 28,
     "metadata": {},
     "output_type": "execute_result"
    }
   ],
   "source": [
    "# Uma curiosidade:\n",
    "(True + True) * 10 "
   ]
  },
  {
   "cell_type": "code",
   "execution_count": 29,
   "metadata": {},
   "outputs": [
    {
     "data": {
      "text/plain": [
       "True"
      ]
     },
     "execution_count": 29,
     "metadata": {},
     "output_type": "execute_result"
    }
   ],
   "source": [
    "# isto porque...\n",
    "isinstance(True, int)"
   ]
  },
  {
   "cell_type": "markdown",
   "metadata": {},
   "source": [
    "Além dos tipos numéricos e de caracteres, as listas e tuplas são bastante úteis em computação numérica. \n",
    "\n",
    "As listas são um tipo de variável muito útil no Python. Uma lista pode conter uma série de valores. As variáveis de lista são declaradas usando colchetes [] após o nome da variável.\n",
    "\n",
    "Tuplas são uma sequência de valores assim como uma lista e são manipulados de maneira similar. Mas as tuplas são fixas em tamanho quando são atribuídas. Em Python, o tamanho fixo é considerado imutável em comparação a uma lista dinâmica e mutável. Tuplas são definidas por parênteses (). Por exemplo,"
   ]
  },
  {
   "cell_type": "code",
   "execution_count": 16,
   "metadata": {},
   "outputs": [
    {
     "name": "stdout",
     "output_type": "stream",
     "text": [
      "5\n"
     ]
    }
   ],
   "source": [
    "L = [2, -1, 4]\n",
    "print (sum(L))"
   ]
  },
  {
   "cell_type": "markdown",
   "metadata": {},
   "source": [
    "## Outros tipos de dados: listas, tuplas"
   ]
  },
  {
   "cell_type": "markdown",
   "metadata": {},
   "source": [
    "Observe o exemplo abaixo em que é criada uma lista de números e, então, os elementos da lista são percorridos e a cada iteração é testado se o número é par ou ímpar, o resultado é impresso na tela.  "
   ]
  },
  {
   "cell_type": "code",
   "execution_count": 2,
   "metadata": {},
   "outputs": [
    {
     "name": "stdout",
     "output_type": "stream",
     "text": [
      "1\n",
      "é impar\n",
      "2\n",
      "é par\n",
      "3\n",
      "é impar\n",
      "4\n",
      "é par\n",
      "5\n",
      "é impar\n",
      "6\n",
      "é par\n",
      "Feito.\n"
     ]
    }
   ],
   "source": [
    "listaDeNumeros = [1, 2, 3, 4, 5, 6]\n",
    "\n",
    "for num in listaDeNumeros:\n",
    "    print (num)\n",
    "    if num % 2 ==0:\n",
    "        print(\"é par\")\n",
    "    else:\n",
    "        print(\"é impar\")\n",
    "print (\"Feito.\")"
   ]
  },
  {
   "cell_type": "markdown",
   "metadata": {},
   "source": [
    "Mais alguns exemplos de manipulação de listas:"
   ]
  },
  {
   "cell_type": "code",
   "execution_count": 10,
   "metadata": {},
   "outputs": [
    {
     "name": "stdout",
     "output_type": "stream",
     "text": [
      "8\n"
     ]
    }
   ],
   "source": [
    "x = [0,1,2,3,4,5,6,7]\n",
    "print (len(l))"
   ]
  },
  {
   "cell_type": "code",
   "execution_count": 11,
   "metadata": {},
   "outputs": [
    {
     "data": {
      "text/plain": [
       "[0, 1, 2]"
      ]
     },
     "execution_count": 11,
     "metadata": {},
     "output_type": "execute_result"
    }
   ],
   "source": [
    "x[:3]"
   ]
  },
  {
   "cell_type": "code",
   "execution_count": 12,
   "metadata": {},
   "outputs": [
    {
     "data": {
      "text/plain": [
       "[3, 4, 5, 6, 7]"
      ]
     },
     "execution_count": 12,
     "metadata": {},
     "output_type": "execute_result"
    }
   ],
   "source": [
    "x[3:]"
   ]
  },
  {
   "cell_type": "markdown",
   "metadata": {},
   "source": [
    "Outra estrutura de dados iterável são as chamadas tuplas, como no exemplo abaixo."
   ]
  },
  {
   "cell_type": "code",
   "execution_count": 5,
   "metadata": {},
   "outputs": [
    {
     "name": "stdout",
     "output_type": "stream",
     "text": [
      "1\n",
      "2\n",
      "3\n",
      "4\n",
      "5\n",
      "6\n"
     ]
    }
   ],
   "source": [
    "exemploDeTupla = (1, 2, 3, 4, 5, 6)\n",
    "\n",
    "for num in exemploDeTupla:\n",
    "    print (num)"
   ]
  },
  {
   "cell_type": "markdown",
   "metadata": {},
   "source": [
    "As tuplas (ou sequências) e  listas são tipos  muito usados na hora de trabalhar com dados. Ambos são conjuntos ordenados de elementos: as tuplas se escrevem com parênteses, e as listas com colchetes.  Uma das principais diferenças entre tuplas e listas é que os elementos das listas podem ser redefinidos, enquanto os elementos das tuplas não podem ser modificados."
   ]
  },
  {
   "cell_type": "code",
   "execution_count": 31,
   "metadata": {},
   "outputs": [
    {
     "name": "stdout",
     "output_type": "stream",
     "text": [
      "[1, 2, 3.0, (4+0j), '5', 'abacaxi']\n",
      "(1, 2, 3.0, (4+0j), '5', 'abacaxi')\n",
      "False\n"
     ]
    }
   ],
   "source": [
    "uma_lista = [1, 2, 3.0, 4 + 0j, \"5\",\"abacaxi\"]\n",
    "uma_tupla = (1, 2, 3.0, 4 + 0j, \"5\", 'abacaxi')\n",
    "print(uma_lista)\n",
    "print(uma_tupla)\n",
    "print(uma_lista == uma_tupla)"
   ]
  },
  {
   "cell_type": "markdown",
   "metadata": {},
   "source": [
    "Para as tuplas, podemos inclusive omitir os parênteses:"
   ]
  },
  {
   "cell_type": "code",
   "execution_count": 6,
   "metadata": {},
   "outputs": [
    {
     "data": {
      "text/plain": [
       "tuple"
      ]
     },
     "execution_count": 6,
     "metadata": {},
     "output_type": "execute_result"
    }
   ],
   "source": [
    "tupla_sem_parentesis = 2,5,6,9,7, 'batata com frango'\n",
    "type(tupla_sem_parentesis)"
   ]
  },
  {
   "cell_type": "markdown",
   "metadata": {},
   "source": [
    " As listas e tuplas __NÃO__ são vetores no sentido da algebra linear, pois a soma de listas é simplesmente a justaposição. Multiplicar uma lista (ou sequência) por um inteiro é simplesmente repetir a lista esse número de vezes (no seguinte notebook aprenderemos como usar matrizes e vetores)."
   ]
  },
  {
   "cell_type": "code",
   "execution_count": 33,
   "metadata": {},
   "outputs": [
    {
     "name": "stdout",
     "output_type": "stream",
     "text": [
      "[1, 2, 3.0, (4+0j), '5', 'abacaxi', 1, 2, 3.0, (4+0j), '5', 'abacaxi']\n",
      "[1, 2, 3.0, (4+0j), '5', 'abacaxi', 1, 2, 3.0, (4+0j), '5', 'abacaxi']\n"
     ]
    }
   ],
   "source": [
    "a = uma_lista+uma_lista\n",
    "b = 2*uma_lista\n",
    "c = uma_lista*2\n",
    "print(a)\n",
    "print(b)"
   ]
  },
  {
   "cell_type": "code",
   "execution_count": 34,
   "metadata": {},
   "outputs": [
    {
     "data": {
      "text/plain": [
       "[1, 2, 3.0, (4+0j), '5', 'abacaxi', 10, 4]"
      ]
     },
     "execution_count": 34,
     "metadata": {},
     "output_type": "execute_result"
    }
   ],
   "source": [
    "uma_lista+[10,4]"
   ]
  },
  {
   "cell_type": "markdown",
   "metadata": {},
   "source": [
    "Naturalmente, **não tem sentido multiplicar duas listas**:"
   ]
  },
  {
   "cell_type": "code",
   "execution_count": 35,
   "metadata": {},
   "outputs": [
    {
     "ename": "TypeError",
     "evalue": "can't multiply sequence by non-int of type 'list'",
     "output_type": "error",
     "traceback": [
      "\u001b[1;31m---------------------------------------------------------------------------\u001b[0m",
      "\u001b[1;31mTypeError\u001b[0m                                 Traceback (most recent call last)",
      "\u001b[1;32m<ipython-input-35-96f94e7736c0>\u001b[0m in \u001b[0;36m<module>\u001b[1;34m()\u001b[0m\n\u001b[1;32m----> 1\u001b[1;33m \u001b[0muma_lista\u001b[0m\u001b[1;33m*\u001b[0m\u001b[0muma_lista\u001b[0m\u001b[1;33m\u001b[0m\u001b[0m\n\u001b[0m",
      "\u001b[1;31mTypeError\u001b[0m: can't multiply sequence by non-int of type 'list'"
     ]
    }
   ],
   "source": [
    "uma_lista*uma_lista"
   ]
  },
  {
   "cell_type": "markdown",
   "metadata": {},
   "source": [
    "Nas listas ou tuplas podemos:\n",
    "* Conferir se um elemento está na tupla usando o operador `in`:"
   ]
  },
  {
   "cell_type": "code",
   "execution_count": null,
   "metadata": {
    "collapsed": true
   },
   "outputs": [],
   "source": [
    "2 in uma_lista"
   ]
  },
  {
   "cell_type": "markdown",
   "metadata": {},
   "source": [
    "* Saber quantos  elementos tem, usando `len`:"
   ]
  },
  {
   "cell_type": "code",
   "execution_count": null,
   "metadata": {
    "collapsed": true
   },
   "outputs": [],
   "source": [
    "len(uma_lista)"
   ]
  },
  {
   "cell_type": "markdown",
   "metadata": {},
   "source": [
    "* Adicionar elementos na lista, usando a função `append`:"
   ]
  },
  {
   "cell_type": "code",
   "execution_count": null,
   "metadata": {
    "collapsed": true
   },
   "outputs": [],
   "source": [
    "uma_lista.append(-14)\n",
    "print(uma_lista)"
   ]
  },
  {
   "cell_type": "markdown",
   "metadata": {},
   "source": [
    "* Eliminar um elemento da lista  usando a função `remove`. Se a lista contém o elemento múltiplas vezes, `remove`  eliminará somente o primeiro. Se a lista não contém o elemento gerará um erro."
   ]
  },
  {
   "cell_type": "code",
   "execution_count": null,
   "metadata": {
    "collapsed": true
   },
   "outputs": [],
   "source": [
    "uma_lista.remove(-14)\n",
    "print(uma_lista)"
   ]
  },
  {
   "cell_type": "markdown",
   "metadata": {},
   "source": [
    "* Eliminar um elemento de acordo a posição dele na lista usando a função `pop` :"
   ]
  },
  {
   "cell_type": "code",
   "execution_count": null,
   "metadata": {
    "collapsed": true
   },
   "outputs": [],
   "source": [
    "uma_lista.pop(3) # Elimina o elemento na posição 3 começando desde 0; isto é, elimina o quarto elemento da lista\n",
    "print(uma_lista)"
   ]
  },
  {
   "cell_type": "markdown",
   "metadata": {},
   "source": [
    "__Os comandos 'remove', 'pop', 'append' não podem ser usados em tuplas, apenas em listas, pois as tuplas não podem ser modificadas, uma vez sejam definidas__"
   ]
  },
  {
   "cell_type": "markdown",
   "metadata": {},
   "source": [
    "* Selecionar elementos da lista.    __IMPORTANTE: Em Python, os índices començam por ZERO!__"
   ]
  },
  {
   "cell_type": "code",
   "execution_count": 36,
   "metadata": {},
   "outputs": [
    {
     "name": "stdout",
     "output_type": "stream",
     "text": [
      "1\n",
      "2\n",
      "[1, 2, 3.0, (4+0j)]\n",
      "[1, 2, 3.0]\n",
      "abacaxi\n",
      "5\n",
      "[1, 2, 3.0, (4+0j), '5', 'abacaxi']\n",
      "[1, 3.0, '5']\n"
     ]
    }
   ],
   "source": [
    "print(uma_lista[0])  # Primeiro elemento, 1\n",
    "print(uma_lista[1])  # Segundo elemento, 2\n",
    "print(uma_lista[0:4])  # Desde o primeiro até o  quarto. Aqui Python conta \"0,1,2,3\" o elemento \"4\" (que é o quinto da lista) não inclui\n",
    "print(uma_lista[:3])  # Desde o primero até o terceiro, excluíndo este: 1, 2, 3.0 (similar ao exemplo anterior)\n",
    "print(uma_lista[-1])  #  último elemento\n",
    "print(uma_lista[-2])  #  penúltimo elemento\n",
    "print(uma_lista[:])  # Desde o primeiro até o último\n",
    "print(uma_lista[::2])  # Desde o primeiro até o último, pulando 2: 1, 3.0"
   ]
  },
  {
   "cell_type": "markdown",
   "metadata": {},
   "source": [
    "* Também podemos redefinir objetos em listas"
   ]
  },
  {
   "cell_type": "code",
   "execution_count": null,
   "metadata": {
    "collapsed": true
   },
   "outputs": [],
   "source": [
    "print(uma_lista)\n",
    "\n",
    "uma_lista[3] = 'o fim deste notebook'\n",
    "print(uma_lista)"
   ]
  },
  {
   "cell_type": "markdown",
   "metadata": {
    "cell_tags": []
   },
   "source": [
    "## Definindo uma função"
   ]
  },
  {
   "cell_type": "markdown",
   "metadata": {},
   "source": [
    "Começamos por definir uma função que converta  graus fahrenheit a kelvin. Lembrar que: \n",
    "\n",
    "$$T(K) = (T(°F) - 32) \\cdot 5/9 + 273.15$$"
   ]
  },
  {
   "cell_type": "code",
   "execution_count": 41,
   "metadata": {
    "cell_tags": [],
    "collapsed": true
   },
   "outputs": [],
   "source": [
    "def fahr_to_kelvin(temp):                      #temp será então o argumento da função \n",
    "    return ((temp - 32) * (5/9)) + 273.15"
   ]
  },
  {
   "cell_type": "code",
   "execution_count": null,
   "metadata": {
    "cell_tags": [],
    "collapsed": true
   },
   "outputs": [],
   "source": [
    "# Ponto de congelamento da agua 32 F\n",
    "print('freezing point of water:', fahr_to_kelvin(32))\n",
    "# Ponto de ebuliçaõ da agua 212 F\n",
    "print('boiling point of water:', fahr_to_kelvin(212))"
   ]
  },
  {
   "cell_type": "markdown",
   "metadata": {},
   "source": [
    "Vemos que uma função é definida començando com a palavra chave `def` seguida do nome que queremos dar `nome_da_funcao` e na continuação, entre parênteses, os argumentos de entrada. A primeira linha da função termina com dois pontos, `:`.\n",
    "\n",
    "Depois, no corpo da função, tem que identar usando quatro espaços pelo menos, a função termina com `return` e os argumentos de saída. \n",
    "A  função pode não retornar nada, neste caso não precisa usar  `return`. A definição da função termina quando a indentação volta a seu nível inicial."
   ]
  },
  {
   "cell_type": "markdown",
   "metadata": {},
   "source": [
    "## Funções que chamam outras funções"
   ]
  },
  {
   "cell_type": "markdown",
   "metadata": {},
   "source": [
    "Podemos definir funções que chamen  outras desde que estejam criadas no momento de serem chamadas:"
   ]
  },
  {
   "cell_type": "code",
   "execution_count": 38,
   "metadata": {
    "collapsed": true
   },
   "outputs": [],
   "source": [
    "def kelvin_to_celsius(temp):\n",
    "    return temp - 273.15"
   ]
  },
  {
   "cell_type": "code",
   "execution_count": 39,
   "metadata": {
    "cell_tags": []
   },
   "outputs": [
    {
     "name": "stdout",
     "output_type": "stream",
     "text": [
      "absolute zero in Celsius: -271.15\n"
     ]
    }
   ],
   "source": [
    "print('absolute zero in Celsius:', kelvin_to_celsius(2.0))"
   ]
  },
  {
   "cell_type": "markdown",
   "metadata": {},
   "source": [
    "Se agora quisermos converter de Farenheit a Celsius, podemos usar a função que já tinhamos definido anteriormente. É importante, ao definir funções, dar uma referência dos parâmetros, os valores, e o que faz a função:"
   ]
  },
  {
   "cell_type": "code",
   "execution_count": 42,
   "metadata": {
    "cell_tags": []
   },
   "outputs": [
    {
     "name": "stdout",
     "output_type": "stream",
     "text": [
      "freezing point of water in Celsius: 0.0\n"
     ]
    }
   ],
   "source": [
    "def fahr_to_celsius(temp):\n",
    "    \"\"\"Esta função transforma de graus farenheit a celsius. É importante se voce está olhando um filme dos Estados Unidos ou lendo um artigo com estas unidades absolutamente absurdas.\n",
    "    Exemplo: fahr_to_celsius(1.0)=> 1.1111111111110858\"\"\"\n",
    "    temp_k = fahr_to_kelvin(temp)\n",
    "    result = kelvin_to_celsius(temp_k)\n",
    "    return result\n",
    "\n",
    "print('freezing point of water in Celsius:', fahr_to_celsius(32.0))"
   ]
  },
  {
   "cell_type": "code",
   "execution_count": 43,
   "metadata": {
    "collapsed": true
   },
   "outputs": [],
   "source": [
    "?fahr_to_celsius"
   ]
  },
  {
   "cell_type": "markdown",
   "metadata": {},
   "source": [
    "---\n",
    "_Las siguientes celdas contienen configuración del Notebook_\n",
    "\n",
    "_Para visualizar y utlizar los enlaces a Twitter el notebook debe ejecutarse como [seguro](http://ipython.org/ipython-doc/dev/notebook/security.html)_\n",
    "\n",
    "    File > Trusted Notebook"
   ]
  },
  {
   "cell_type": "markdown",
   "metadata": {},
   "source": [
    "(__Este Nootebook está baseado na versão em espanhol do minicurso de Aeropython feito por  Juan Luis Cano, Mabel Delgado, Alejandro Sáez da universidade de Alicante, e cujo notebook original pode ser descarregado no link https://github.com/AeroPython/Curso_AeroPython, e foi modificado por Oscar Márquez para fins académicos__)"
   ]
  },
  {
   "cell_type": "code",
   "execution_count": null,
   "metadata": {
    "collapsed": true
   },
   "outputs": [],
   "source": [
    "# preserve\n",
    "# Esta celda da el estilo al notebook\n",
    "from IPython.core.display import HTML\n",
    "css_file = '../styles/aeropython.css'\n",
    "HTML(open(css_file, \"r\").read())"
   ]
  }
 ],
 "metadata": {
  "kernelspec": {
   "display_name": "Python 3 (ipykernel)",
   "language": "python",
   "name": "python3"
  },
  "language_info": {
   "codemirror_mode": {
    "name": "ipython",
    "version": 3
   },
   "file_extension": ".py",
   "mimetype": "text/x-python",
   "name": "python",
   "nbconvert_exporter": "python",
   "pygments_lexer": "ipython3",
   "version": "3.9.2"
  }
 },
 "nbformat": 4,
 "nbformat_minor": 2
}
