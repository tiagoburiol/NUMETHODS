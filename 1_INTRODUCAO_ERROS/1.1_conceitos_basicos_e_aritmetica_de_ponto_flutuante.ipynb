{
 "cells": [
  {
   "cell_type": "markdown",
   "metadata": {},
   "source": [
    "# 1.1 Conceitos básicos e Aritmética de Ponto Flutuante\n",
    "\n",
    "## Introdução\n",
    "De modo geral, a resolução de um problema de engenharia passa necessariamente por 3 etapas distintas\n",
    "1. observação e entendimento do(s) fenômeno(s) envolvido(s);\n",
    "2. construção de um modelo matemático que represente o problema;\n",
    "3. a resolução do modelo matemático por métodos numéricos ou analíticos.\n",
    "\n",
    "As duas primeiras etapas consistem na **fase de modelagem** e a terceira é a **fase de resolução**. Tanto na fase de modelagem quanto na fase de resolução podem ocorrer erros, mesmo que esses erros não tornem a resposta obtida inválida ou inútil. Em geral busca-se uma solução aproximada, dentro de uma precisão pré-estabelecida.\n",
    "\n",
    "<img src=\"https://github.com/tiagoburiol/NUMETHODS/raw/master/1_INTRODUCAO_ERROS/imagens/erros.png\" width=\"600\">\n",
    "\n",
    "Os erros na fase de modelagem podem ser decorrentes de medições imprecisas, erros de anotação, simplificações e deduções equivocadas. Os erros na fase de resolução ocorrem devido a erros de cálculo, escolha de um método ineficaz, aproximações numéricas ou arredondamentos. Dizemos que métodos analíticos de resolução geram soluções exatas e métodos numéricos geram soluções aproximadas. \n",
    "\n",
    "A maioria dos problemas envolvendo fenômenos reais produzem modelos matemáticos cuja solução analítica é difícil (ou impossível) de se obter, mesmo quando provamos que a solução existe. Nesses casos usamos **métodos numéricos**, os quais fornecem **soluções aproximadas**, que apesar de, em geral, serem diferentes da solução exata, podem ser suficientemete próximas para que sejam úteis em suas aplicações.  \n",
    "\n"
   ]
  },
  {
   "cell_type": "markdown",
   "metadata": {},
   "source": [
    "## Representação de números em ponto flutuante\n",
    "\n",
    "Os métodos numéricos são especialmente úteis quando utilizamos computadores para realizar os cálculos, no entanto, existem limitações na capacidade de armazenar certos números internamente. A representação de números reais nas máquinas é feita, geralmente, utilizando o **sistema de ponto flutuante normalizado** e **base binária**. Ou seja, os números reais são armazenados em um conjunto fixo de bits. Cada bit pode assumir somente dois valores, 0 ou 1 (corte ou passagem de energia, respectivamente), dessa forma, nem todos os números reais podem ser representados de forma exata.\n",
    "\n",
    "Por exemplo, o número $0.125$, na base decimal, pode ser escrito como \n",
    "\n",
    "$$0.125 = \\frac{1}{10} + \\frac{2}{100} + \\frac{5}{1000}$$\n",
    "ou, equivalentemente, \n",
    "$$0.125 = 1 \\times 10^{-1} + 2 \\times 10^{-2} + 5\\times 10^{-3}$$\n",
    "\n",
    "\n",
    "da mesma forma que a fração binária, de valor idêntico, $0.001$ pode ser escrita como \n",
    "\n",
    "$$ 0.001 = 0/2+0/4+1/8$$\n",
    "\n",
    "em que os denominadores das parcelas são potências de $2$, ou ainda,\n",
    "\n",
    "$$ 0.001 = 0\\times 2^{-1} +0 \\times 2^{-2} + 1\\times 2^{-3}$$\n",
    "\n",
    "No sistema de ponto flutuante normalizado (SPFN), um número é representado apenas pela sua forma fracionária (algarismos significativos), em que apenas um número finito de algarismos são armazenados, além do expoente da base e o sinal. Por exemplo, \n",
    "o número $1.2345$, na base decimal, será representado como\n",
    "\n",
    "$$ 1.2345 = 0.12345 \\times 10^1$$\n",
    "\n",
    "em que 12345 são os algarismos significativos e 1 é o expoente da base 10.\n",
    "\n",
    "A maioria das máquinas que usamos atualmente operam na base 2 (binária) em que os algarismos disponíveis são 0 e 1. O número decimal $1.2$, pode ser representado na base binária pelo número $1.00110011001100110011 \\overline{0011}$ que tem infinitas casas após a vírgula, portanto nem todos algarismos significativos poderão ser armazenados. Supondo que apenas 10 algarismos possam ser armazenados, sua respresentação será\n",
    "\n",
    "$$ 0.1001100110 \\times 2^1$$\n",
    "\n",
    "No SPFN apenas os dígitos $1001100110$, o sinal (0 para positivo e 1 para negativo) e o expoente $1$  precisam ser armazenados. \n",
    "\n",
    "\n",
    "## Padrão IEEE\n",
    "Em geral, uma máquina com 32 bit utiliza 23 bit para armazenar os algarismos da parte fracionária, 8 bit para os algarismos do expoente da base e 1 bit para armazenar o sinal. Como é ilustrado na figura abaixo.\n",
    "\n",
    "<img src=\"https://github.com/tiagoburiol/NUMETHODS/raw/master/1_INTRODUCAO_ERROS/imagens/floatstructure.png\" width=\"360\">\n",
    "\n",
    "\n",
    "\n",
    "\n",
    "O padrão IEEE 754 é atualmente o mais utilizado para representar números reais. Na precisão  <span style=\"font-family: courier;\">float</span> usa 23 bits, para a parte fracionária, 8 bits para o expoente e 1 bit para o sinal. Na precisão <span style=\"font-family: courier;\">double</span>, usa 52 bits, para a parte fracionária, 11 bits para o expoente e 1 bit para o sinal, o que permite representar valores entre  $2^{-1022}$ até $2^{1023}$. Alguns exemplos de representações do numero zero, infinito e \"não número\".\n",
    "\n",
    "<img src=\"https://github.com/tiagoburiol/NUMETHODS/raw/master/1_INTRODUCAO_ERROS/imagens/tabelafloat.gif\" width=\"400\">\n",
    "\n",
    "Alguns exemplos de tipos de dados disponíveis no módulo numérico **Numpy** (numpy.org) são mostrados abaixo para o caso de um \n",
    "\n",
    "<img src=\"https://github.com/tiagoburiol/NUMETHODS/raw/master/1_INTRODUCAO_ERROS/imagens/datatypes.png\" width=\"400\">\n",
    "\n",
    "Alguns números, como os irracionais ou a fração 1/3, por exemplo, têm representações fracionárias com infinitas casas decimais. Então, para serem computados precisam ser truncados ou arredondados. Além disso, alguns números com representação decimal finita, possuem representação binária infinita, e vice versa. Assim, erros de arredondamento podem ocorrer no processo de conversão entre bases e, também, nas operações aritméticas de ponto flutuante. "
   ]
  },
  {
   "cell_type": "markdown",
   "metadata": {},
   "source": [
    "\n",
    "## Conversão entre bases\n",
    "Usualmente, utilizamos o sistema de numeração decimal para representar números. Esse é um sistema de numeração posicional onde a posição do dígito indica a potência de 10 que o dígito representa. Por exemplo, o número 293 é decomposto como 293 = 2 centenas +9 dezenas +  3 unidades. O sistema de numeração posicional também pode ser usado com outras bases. \n",
    "\n",
    "Dado um número real, $N$, é sempre possível representá-lo em qualquer base $b$, da seguinte forma\n",
    "\n",
    "$$ N_b=\\sum_{i=n}^m a_ i \\times b^i$$\n",
    "\n",
    "em que $a_i \\in \\{0,1,2,3,...,(b-1)\\}$, com $n$ e $m$ inteiros.\n",
    "\n",
    "### Base binária\n",
    "\n",
    "$$ N_2=\\sum_{i=n}^m a_ i \\times 2^i, \\,\\,\\,\\,\\ a_2 \\in \\{0,1\\}$$\n",
    "\n",
    "#### Exemplos\n",
    "\n",
    "a) $(1011)_2 = 1 \\times 2^0 + 1 \\times 2^1 + 0 \\times 2^2 + 1 \\times 2^3$\n",
    "\n",
    "b) $(111.01)_2 = 1 \\times 2^{-2} + 0 \\times 2^{-1} + 1 \\times 2^0 + 1 \\times 2^1 + 1 \\times 2^2 $\n",
    "\n",
    "### Base decimal\n",
    "\n",
    " $$ N_{10}=\\sum_{i=n}^m a_ i \\times 10^i, \\,\\,\\,\\,\\ a_{10} \\in \\{0,1,2,3,...,9 \\}$$\n",
    "\n",
    "#### Exemplos\n",
    "\n",
    "a) $(231)_{10} = 1 \\times 10^0 + 3 \\times 10^1 + 2 \\times 10^2$\n",
    "\n",
    "b) $(231.35)_{10} = 5 \\times 10^{-2} +3\\times 10^{-1} +1 \\times 10^0 + 3 \\times 10^1 + 2 \\times 10^2$\n",
    "\n",
    "c) Podemos facilmente converter um número binário para a base decimal\n",
    "\n",
    "$(1001.101)_2 = $ \n",
    "\n",
    "$ 1\\times 2^{-3} + 0\\times 2^{-2} + 2\\times 10^{-1} +1 \\times 2^0 + 0 \\times 2^1 + 0 \\times 2^2 + 1 \\times 2^3 = $ \n",
    "\n",
    "$ 1/8 + 0/4 + 1/2 + 1/1 + 0 \\cdot 2 + 0 \\cdot 4 + 1 \\cdot 8 =$\n",
    "\n",
    "$0.125+0.5+1.0+8.0 =$\n",
    "\n",
    "$9.625$\n",
    "\n",
    "Assim $(1001.101)_2 = (9,625)_{10}$."
   ]
  },
  {
   "cell_type": "markdown",
   "metadata": {},
   "source": [
    "Em Python existem funções para representar números em diferentes bases, incluindo os sistemas octogonal e hexadecimal. Para converter um inteiro em um binário, octal, ou hexadecimal, podemos proceder como é mostrado abaixo"
   ]
  },
  {
   "cell_type": "code",
   "execution_count": 9,
   "metadata": {},
   "outputs": [
    {
     "name": "stdout",
     "output_type": "stream",
     "text": [
      "Binário:     x = 0b10011010010\n",
      "Octal:       x = 0o2322\n",
      "Hexadecimal: x = 0x4d2\n"
     ]
    }
   ],
   "source": [
    "x = 1234\n",
    "print ('Binário:     x =', bin(x))\n",
    "print ('Octal:       x =', oct(x))\n",
    "print ('Hexadecimal: x =', hex(x))\n",
    "\n"
   ]
  },
  {
   "cell_type": "markdown",
   "metadata": {},
   "source": [
    "Ou, alternativamente"
   ]
  },
  {
   "cell_type": "code",
   "execution_count": 13,
   "metadata": {},
   "outputs": [
    {
     "name": "stdout",
     "output_type": "stream",
     "text": [
      "Binário:     x = 10011010010\n",
      "Octal:       x = 2322\n",
      "Hexadecimal: x = 4d2\n"
     ]
    }
   ],
   "source": [
    "print ('Binário:     x =', format(x, 'b'))\n",
    "print ('Octal:       x =', format(x, 'o'))\n",
    "print ('Hexadecimal: x =', format(x, 'x'))"
   ]
  },
  {
   "cell_type": "markdown",
   "metadata": {},
   "source": [
    "## Aritmética de ponto Flutuante\n",
    "\n",
    "Um número no Sistema de Ponto Flutuante (STF) é caracterizado por uma base $b$, um número de dígitos significativos $n$ e um expoente $exp$. Assim, dizemos que um número real $n_r$ está representado no SPF se estiver na forma \n",
    "\n",
    "$$ n_r = \\pm 0.d_1 d_2 d_3...d_n \\times b^{exp}$$\n",
    "\n",
    "em que $m=d_1 d_2...d_n$ é a mantissa com $n$ dígitos significativos $d_1, d_2,...,d_n$ satisfazendo $0 \\leq d_i \\leq (b-1)$, $i=1,...,n$ e $d_1 \\neq 0$.\n",
    "\n",
    "O expoente $exp$ da base $b$ varia da seguinte maneira\n",
    "\n",
    "$$ exp_{min} \\leq exp \\leq exp_{max}$$\n",
    "\n",
    "sendo $ exp_{min} \\leq 0 $ e $exp_{max} \\geq 1$ com  $exp_{min}$ e $exp_{max}$ inteiros.\n",
    "\n",
    "Considerando o sistema de ponto flutuante normalizado, na forma genérica $SPF(b,n,exp_{min}, exp_{max})$, temos que apenas um conjunto finito de números reais podem ser exatamente representados, tal que\n",
    "\n",
    "a) o número zero é representado como:\n",
    "\n",
    "$$ 0.000...0 \\times b^{exp_{min}}$$\n",
    "\n",
    "b) o menor positivo exatamente representável é \n",
    "\n",
    "$$ 0.100...0 \\times b^{exp_{min}}$$\n",
    "\n",
    "c) o maior positivo exatamente representável é \n",
    "\n",
    "$$ 0.(b-1)(b-1)(b-1)...(b-1) \\times b^{exp_{max}}$$\n",
    "\n",
    "d) o número máximo de mantissas positivas possíveis é \n",
    "\n",
    "$$ mantissas_+ = (b-1)b^{n-1}$$\n",
    "\n",
    "e) o número máximo de expoentes possíveis é \n",
    "\n",
    "$$ exp_{possiveis}=exp_{max}-exp_{min}+1 $$\n",
    "\n",
    "f) o número máximo de reais positivos é\n",
    "\n",
    "$$ NR_+ = mantissas_+ \\times exp_{possiveis}$$\n",
    "\n",
    "g) assim, considerando os números negativos e o zero, o número total de números reais exatamente representáveis é\n",
    "\n",
    "$$NR_t = 2\\times NR_+ + 1$$"
   ]
  },
  {
   "cell_type": "markdown",
   "metadata": {
    "collapsed": true
   },
   "source": [
    "### Exemplo\n",
    "\n",
    "Em Python também dispomos de algumas funções para acessar as informações do sistema de ponto flutuante:"
   ]
  },
  {
   "cell_type": "code",
   "execution_count": 1,
   "metadata": {},
   "outputs": [
    {
     "name": "stdout",
     "output_type": "stream",
     "text": [
      "Máximo representável: 1.7976931348623157e+308\n",
      "Mínimo represenável: 2.2250738585072014e-308\n",
      "Épsilon da máquina: 2.220446049250313e-16\n",
      "Todas informações: sys.float_info(max=1.7976931348623157e+308, max_exp=1024, max_10_exp=308, min=2.2250738585072014e-308, min_exp=-1021, min_10_exp=-307, dig=15, mant_dig=53, epsilon=2.220446049250313e-16, radix=2, rounds=1)\n"
     ]
    }
   ],
   "source": [
    "import sys  \n",
    "print (\"Máximo representável:\", sys.float_info.max)\n",
    "print (\"Mínimo represenável:\", sys.float_info.min)\n",
    "print (\"Épsilon da máquina:\", sys.float_info.epsilon)\n",
    "print (\"Todas informações:\", sys.float_info)"
   ]
  },
  {
   "cell_type": "markdown",
   "metadata": {},
   "source": [
    "### Exemplo\n",
    "\n",
    "Considere o sistema de ponto flutuante normalizado **SPF (3, 2,−1, 2)**, de base 3, 2 dígitos na mantissa, menor expoente igual a −1 e maior expoente 2.\n",
    "\n",
    "Para esse sistema tem-se que os números\n",
    "\n",
    "$$ x = \\frac{1}{9} = (0.10)_3 \\times 3^{-1} $$\n",
    "\n",
    "e\n",
    "\n",
    "$$ y = 5 = (0.12)_3 \\times 3^2 $$\n",
    "\n",
    "são exatamente representáveis, no entanto,\n",
    "\n",
    "$$ (x+y) = (0.00010)_3 \\times 3^2 + (0.12)_3 \\times 3^2 = (0.1201)_3 \\times 3^2$$\n",
    "\n",
    "não é exatamente representável, uma vez que a mantissa é de 2 dígitos. Nesse sistema $(x+y)=(0.12)_3 \\times 3^2$. Ou seja, $(x+y)=y$."
   ]
  },
  {
   "cell_type": "markdown",
   "metadata": {},
   "source": [
    "Assim, pode ocorrer de propriedades consagradas no conjunto dos números reais, como  as propriedades comutativa e associativa na adição e as propriedades comutativa e distributiva na multiplicação, não serem verdadeiras no sistema de ponto flutuante\n",
    "\n",
    "Por exemplo, em um sistema de ponto flutuante, base decimal, 3 dígitos e arredondamento, as seguintes operações geram **erros de arredondamento**\n",
    "\n",
    "Sejam $x=5.26$, $y=9.34$ e $z = 5.04$. Então:\n",
    "\n",
    "$$ (x+y)+z = (5.26 + 9.34) + 5.04 = 14.6 + 5.04 = 19.6 $$\n",
    "\n",
    "e\n",
    "\n",
    "$$ x+(y+z)=5.26+(9.34+5.04)=5.26+14.4=19.7$$\n",
    "\n",
    "Ou seja, \n",
    "\n",
    "$$ x+(y+z) \\neq (x+y) +z$$\n"
   ]
  },
  {
   "cell_type": "markdown",
   "metadata": {},
   "source": [
    "### Exemplo\n",
    "\n",
    "Tente explicar os resultados das operações a seguir"
   ]
  },
  {
   "cell_type": "code",
   "execution_count": 1,
   "metadata": {},
   "outputs": [
    {
     "name": "stdout",
     "output_type": "stream",
     "text": [
      "0.2 + 0.4 - 0.5 = 0.10000000000000009\n",
      "- 0.5 + 0.4 + 0.2 = 0.10000000000000003\n",
      "0.2 -0.1 + 0.2 - 0.1 = 0.20000000000000004\n",
      "0.2 - 0.1 + (0.2 - 0.1) = 0.2\n",
      "0.2 + 0.3 + 0.1 = 0.6\n",
      "0.2 + 0.1 + 0.3 = 0.6000000000000001\n"
     ]
    }
   ],
   "source": [
    "print (\"0.2 + 0.4 - 0.5 =\", 0.2 + 0.4 - 0.5)\n",
    "print (\"- 0.5 + 0.4 + 0.2 =\", - 0.5 + 0.4 + 0.2)\n",
    "print (\"0.2 -0.1 + 0.2 - 0.1 =\", 0.2 -0.1 + 0.2 - 0.1)\n",
    "print (\"0.2 - 0.1 + (0.2 - 0.1) =\", 0.2 - 0.1 + (0.2 - 0.1))\n",
    "print (\"0.2 + 0.3 + 0.1 =\", 0.2 + 0.3 + 0.1 )\n",
    "print (\"0.2 + 0.1 + 0.3 =\", 0.2 + 0.1 + 0.3) \n"
   ]
  },
  {
   "cell_type": "markdown",
   "metadata": {},
   "source": [
    "### Exemplo \n",
    "Tente explicar os resultados a seguir"
   ]
  },
  {
   "cell_type": "code",
   "execution_count": 2,
   "metadata": {},
   "outputs": [
    {
     "data": {
      "text/plain": [
       "False"
      ]
     },
     "execution_count": 2,
     "metadata": {},
     "output_type": "execute_result"
    }
   ],
   "source": [
    "0.1 + 0.2 == 0.3\n"
   ]
  },
  {
   "cell_type": "code",
   "execution_count": 3,
   "metadata": {},
   "outputs": [
    {
     "data": {
      "text/plain": [
       "0.6000000000000001"
      ]
     },
     "execution_count": 3,
     "metadata": {},
     "output_type": "execute_result"
    }
   ],
   "source": [
    "0.4 + 0.2\n"
   ]
  },
  {
   "cell_type": "code",
   "execution_count": 4,
   "metadata": {},
   "outputs": [
    {
     "data": {
      "text/plain": [
       "Decimal('0.1000000000000000055511151231257827021181583404541015625')"
      ]
     },
     "execution_count": 4,
     "metadata": {},
     "output_type": "execute_result"
    }
   ],
   "source": [
    "from decimal import Decimal\n",
    "Decimal(0.1)"
   ]
  },
  {
   "cell_type": "markdown",
   "metadata": {},
   "source": [
    "### Exemplo \n",
    "Considere o seguinte processo iterativo\n",
    "\n",
    "$$x^{(0)} = \\frac{1}{3}$$\n",
    "\n",
    "e\n",
    "\n",
    "$$x^{(n+1)} = 4x^{(n)}-1, \\,\\,\\,\\, n=1,2,...$$\n",
    "\n",
    "O resultado dessa sequência é \n",
    "\n",
    "$$x^{(1)}=x^{(2)}=x^{(3)}=...=x^{(n)}=\\frac{1}{3}$$\n",
    "\n",
    "Agora observe o programa abaixo. Você pode explicar os resultados?"
   ]
  },
  {
   "cell_type": "code",
   "execution_count": 6,
   "metadata": {},
   "outputs": [
    {
     "name": "stdout",
     "output_type": "stream",
     "text": [
      "0.33333333333333326\n",
      "0.33333333333333304\n",
      "0.33333333333333215\n",
      "0.3333333333333286\n",
      "0.3333333333333144\n",
      "0.33333333333325754\n",
      "0.33333333333303017\n",
      "0.3333333333321207\n",
      "0.3333333333284827\n",
      "0.3333333333139308\n",
      "0.3333333332557231\n",
      "0.3333333330228925\n",
      "0.3333333320915699\n",
      "0.3333333283662796\n",
      "0.3333333134651184\n",
      "0.33333325386047363\n",
      "0.33333301544189453\n",
      "0.3333320617675781\n",
      "0.3333282470703125\n",
      "0.33331298828125\n",
      "0.333251953125\n",
      "0.3330078125\n",
      "0.33203125\n",
      "0.328125\n",
      "0.3125\n",
      "0.25\n",
      "0.0\n",
      "-1.0\n",
      "-5.0\n",
      "-21.0\n",
      "-85.0\n",
      "-341.0\n",
      "-1365.0\n",
      "-5461.0\n",
      "-21845.0\n",
      "-87381.0\n",
      "-349525.0\n",
      "-1398101.0\n",
      "-5592405.0\n",
      "-22369621.0\n",
      "-89478485.0\n",
      "-357913941.0\n",
      "-1431655765.0\n",
      "-5726623061.0\n",
      "-22906492245.0\n",
      "-91625968981.0\n",
      "-366503875925.0\n",
      "-1466015503701.0\n",
      "-5864062014805.0\n",
      "-23456248059221.0\n"
     ]
    }
   ],
   "source": [
    "x = 1/3\n",
    "for i in range(50):\n",
    "    x = 4*x -1\n",
    "    print (x)"
   ]
  },
  {
   "cell_type": "markdown",
   "metadata": {
    "collapsed": true
   },
   "source": [
    "## Referências\n",
    "\n",
    "Cálculo Numérico: aprendizagem com apoio de software, Selma Arenales e Artur Darezzo, 2ª ed, Cengage Learning Brasil, 2016.\n",
    "\n",
    "Métodos Numéricos para Engenharia. Steven C. Chapra; Raymond P. Canale. 7ª Edição. Editora McGraw-Hill."
   ]
  },
  {
   "cell_type": "code",
   "execution_count": null,
   "metadata": {},
   "outputs": [],
   "source": []
  }
 ],
 "metadata": {
  "kernelspec": {
   "display_name": "Python 3",
   "language": "python",
   "name": "python3"
  },
  "language_info": {
   "codemirror_mode": {
    "name": "ipython",
    "version": 3
   },
   "file_extension": ".py",
   "mimetype": "text/x-python",
   "name": "python",
   "nbconvert_exporter": "python",
   "pygments_lexer": "ipython3",
   "version": "3.8.5"
  }
 },
 "nbformat": 4,
 "nbformat_minor": 1
}
