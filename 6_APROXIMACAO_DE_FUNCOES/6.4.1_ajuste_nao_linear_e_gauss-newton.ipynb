{
 "cells": [
  {
   "cell_type": "markdown",
   "metadata": {},
   "source": [
    "# Método Gauss-Newton\n",
    "Fonte: CHAPRA, Steven; CANALE, Raymond. Métodos Numéricos\n",
    "para Engenharia. 7a Edição. Porto Alegre: Bookman, 2016, p. 442 - 448.\n",
    "\n",
    "O método de Gauss-Newton é um algoritmo para minimizar a soma dos quadrados dos resíduos entre os dados e as equações não lineares. O conceito chave subjacente a essa técnica é que uma expansão em série de Taylor é usada para expressar a equação não linear original em uma forma aproximada linear. A seguir, a teoria dos mínimos quadrados pode ser usada para se obter novas estimativas dos parâmetros que se movam na direção de minimizar o resíduo.\n",
    "\n",
    "Para ilustrar como isso é feito, a relação entre a equação não linear e os dados pode ser expressa genericamente como\n",
    "\n",
    "$$y_i = f(x_i; a_0,a_1,...,a_m) + e_i$$"
   ]
  },
  {
   "cell_type": "markdown",
   "metadata": {},
   "source": [
    "onde $y_i$ é um valor medido da variável dependente, $f(x_i; a_0, a_1, ..., a_m)$ é a equação que é uma função da variável independente $x_i$ e uma função não linear dos parâmetros $a_0$, $a_1$, . . . , $a_m$ e $e_i$ é um erro aleatório. Por conveniência, esse modelo pode ser expresso na forma abreviada pela omissão dos parâmetros\n",
    "$$y_i = f(x_i) + e_i$$"
   ]
  },
  {
   "cell_type": "markdown",
   "metadata": {},
   "source": [
    "O modelo não linear pode ser expandido por uma série de Taylor em torno dos valores dos parâmetros e truncada depois da primeira derivada. Por exemplo, para um caso com 2 parâmetros\n",
    "\n",
    "$$ f(x_i)_{j+1} = f(x_i)_j + \\frac{\\partial f(x_i)_j}{\\partial a_0} \\Delta a_0 + \\frac{\\partial f(x_i)_j}{\\partial a_1} \\Delta a_1$$"
   ]
  },
  {
   "cell_type": "markdown",
   "metadata": {},
   "source": [
    "onde $j$ é a aproximação inicial, $j+1$ é a previsão, $\\Delta a_0 = a_{0, j+1} + a_{0, j}$  e $\\Delta a_1 = a_{1, j+1} + a_{1, j}$. Logo, linearizamos o modelo inicial com relação aos parâmetros. A equação acima pode ser substituída na equaçãoanterior para fornecer\n",
    "\n",
    "\n",
    "$$ y_i - f(x_i)_j =  \\frac{\\partial f(x_i)_j}{\\partial a_0} \\Delta a_0 + \\frac{\\partial f(x_i)_j}{\\partial a_1} \\Delta a_1 + e_i$$\n",
    "\n",
    "ou, na forma matricial \n",
    "\n",
    "$$[D]=[Z_j]\\{\\Delta A\\}+\\{E\\} $$\n",
    "\n",
    "onde $[Z_j]$ é a matriz das derivadas parciais da função calculada na aproximação inicial $j$,\n",
    "\n",
    "$$\\begin{bmatrix} \n",
    "\\frac{\\partial f(x_1)}{\\partial a_0} & \\frac{\\partial f(x_1)}{\\partial a_1}\\\\ \n",
    "\\frac{\\partial f(x_2)}{\\partial a_0} & \\frac{\\partial f(x_2)}{\\partial a_1}\\\\\n",
    "\\vdots & \\vdots\\\\ \n",
    "\\frac{\\partial f(x_n)}{\\partial a_0} & \\frac{\\partial f(x_n)}{\\partial a_1}\\\\\n",
    "\\end{bmatrix}$$\n"
   ]
  },
  {
   "cell_type": "markdown",
   "metadata": {},
   "source": [
    "onde $n$ é o número de pontos dados e $\\frac{\\partial f(x_i)}{\\partial a_k}$ é a derivada parcial da função com relação ao $k$-ésimo parâmetro calculada no $i$-ésimo ponto dado. O vetor $\\{D\\}$ contém as diferenças entre as medidas e os valores da função"
   ]
  },
  {
   "cell_type": "markdown",
   "metadata": {},
   "source": [
    "$$\\begin{bmatrix} \n",
    "y_1 - f(x_1)\\\\ \n",
    "y_2 - f(x_2)\\\\ \n",
    "\\vdots \\\\\n",
    "y_n - f(x_n)\n",
    "\\end{bmatrix}$$"
   ]
  },
  {
   "cell_type": "markdown",
   "metadata": {},
   "source": [
    "O vetor  $\\{\\Delta A\\}$ contém a variação nos valores dos parâmetros,\n"
   ]
  },
  {
   "cell_type": "markdown",
   "metadata": {},
   "source": [
    "$$\\{\\Delta A\\} = \n",
    "\\begin{bmatrix} \n",
    "\\Delta a_0\\\\ \n",
    "\\Delta a_1\\\\ \n",
    "\\vdots \\\\\n",
    "\\Delta a_n\n",
    "\\end{bmatrix}$$"
   ]
  },
  {
   "cell_type": "markdown",
   "metadata": {},
   "source": [
    "Assim, a abordagem consiste em resolver a equação \n",
    "\n",
    "$$\\left[[Z_j]^T[Z_j]\\right] \\{\\Delta A\\} = \\left[[Z_j]^T\\{D\\}\\right]  $$ \n",
    "\n",
    "determinando $\\{\\Delta A\\}$, o qual pode ser usado para calcular valores melhorados para os parâmetros como em\n",
    "\n",
    "$$ a_{0,j+1} = a_{0,j+1}+\\Delta a_0$$\n",
    "e\n",
    "$$ a_{1,j+1} = a_{1,j+1}+\\Delta a_1$$\n",
    "\n",
    "Esse procedimento é repetido até que a solução convirja,ou seja, até que\n",
    "\n",
    "$$ \\vert \\epsilon _k \\vert = \\left\\vert \\frac{a_{0,j+1} - a_{0,j+1}}{a_{1,j+1}} \\right\\vert$$\n",
    "\n",
    "fique abaixo de um critério de parada aceitável.\n"
   ]
  },
  {
   "cell_type": "markdown",
   "metadata": {},
   "source": [
    "## Exemplo 1 - Resolução computacional"
   ]
  },
  {
   "cell_type": "markdown",
   "metadata": {},
   "source": [
    "Vamos ajustar a função $f(x)=a_0(1-e^{-a_1x})$ aos dados \n",
    "\n",
    "$$\n",
    "\\begin{array}{cccccc}\n",
    "\\hline\n",
    "x &0.25  &0.75  &1.25  &1.75  &2.25  \\\\ \\hline\n",
    "y &0.28  &0.57  &0.68  &0.74  &0.79  \\\\\n",
    "\\hline\n",
    "\\end{array}\n",
    "$$\n",
    "\n",
    "usando aproximação inicial $a_0=1.0$ e $a_1=1.0$  para os parâmetros. "
   ]
  },
  {
   "cell_type": "code",
   "execution_count": 1,
   "metadata": {},
   "outputs": [],
   "source": [
    "import numpy as np\n",
    "from numpy.linalg import inv\n",
    "import matplotlib.pyplot as plt\n",
    "\n",
    "from sympy import *\n",
    "init_printing(use_unicode=True)"
   ]
  },
  {
   "cell_type": "code",
   "execution_count": 2,
   "metadata": {},
   "outputs": [],
   "source": [
    "# Criando os arrays com os dados tabelados\n",
    "\n",
    "xi = np.array([0.25, 0.75, 1.25, 1.75, 2.25])\n",
    "yi = np.array([0.28, 0.57, 0.68, 0.74, 0.79])"
   ]
  },
  {
   "cell_type": "code",
   "execution_count": 3,
   "metadata": {},
   "outputs": [
    {
     "data": {
      "image/png": "[encoded data removed]",
      "text/latex": [
       "$\\displaystyle a_{0} \\left(1 - 2.71828182845905^{- a_{1} x}\\right)$"
      ],
      "text/plain": [
       "   ⎛                    -a₁⋅x⎞\n",
       "a₀⋅⎝1 - 2.71828182845905     ⎠"
      ]
     },
     "execution_count": 3,
     "metadata": {},
     "output_type": "execute_result"
    }
   ],
   "source": [
    "# definindo a função aproximadora\n",
    "a0, a1, x= symbols(\"a0, a1, x\")\n",
    "g = a0*(1-np.e**(-a1*x))\n",
    "g"
   ]
  },
  {
   "cell_type": "code",
   "execution_count": 4,
   "metadata": {},
   "outputs": [
    {
     "data": {
      "image/png": "[encoded data removed]",
      "text/latex": [
       "$\\displaystyle 1 - 2.71828182845905^{- a_{1} x}$"
      ],
      "text/plain": [
       "                    -a₁⋅x\n",
       "1 - 2.71828182845905     "
      ]
     },
     "execution_count": 4,
     "metadata": {},
     "output_type": "execute_result"
    }
   ],
   "source": [
    "# obtendo as derivadas\n",
    "dgda0 = diff(g,a0)\n",
    "dgda0"
   ]
  },
  {
   "cell_type": "code",
   "execution_count": 5,
   "metadata": {},
   "outputs": [
    {
     "data": {
      "image/png": "[encoded data removed]",
      "text/latex": [
       "$\\displaystyle 1.0 \\cdot 2.71828182845905^{- a_{1} x} a_{0} x$"
      ],
      "text/plain": [
       "                    -a₁⋅x     \n",
       "1.0⋅2.71828182845905     ⋅a₀⋅x"
      ]
     },
     "execution_count": 5,
     "metadata": {},
     "output_type": "execute_result"
    }
   ],
   "source": [
    "dgda1 = diff(g,a1)\n",
    "dgda1"
   ]
  },
  {
   "cell_type": "code",
   "execution_count": 6,
   "metadata": {},
   "outputs": [],
   "source": [
    "# tornando as funções g(x) e suas derivadas 'avaliáveis'\n",
    "g = lambdify((x, a0, a1), g)\n",
    "dgda0 = lambdify((x,a0,a1), dgda0)\n",
    "dgda1 = lambdify((x,a0,a1), dgda1)"
   ]
  },
  {
   "cell_type": "code",
   "execution_count": 7,
   "metadata": {},
   "outputs": [],
   "source": [
    "# chute inicial\n",
    "A = np.array([1.0, 1.0])"
   ]
  },
  {
   "cell_type": "code",
   "execution_count": 8,
   "metadata": {},
   "outputs": [
    {
     "data": {
      "text/plain": [
       "array([[0.2212, 0.1947],\n",
       "       [0.5276, 0.3543],\n",
       "       [0.7135, 0.3581],\n",
       "       [0.8262, 0.3041],\n",
       "       [0.8946, 0.2371]])"
      ]
     },
     "execution_count": 8,
     "metadata": {},
     "output_type": "execute_result"
    }
   ],
   "source": [
    "Z = np.array([dgda0(xi,A[0],A[1]), dgda1(xi,A[0],A[1])]).T\n",
    "np.round(Z,4)"
   ]
  },
  {
   "cell_type": "code",
   "execution_count": 9,
   "metadata": {},
   "outputs": [
    {
     "name": "stdout",
     "output_type": "stream",
     "text": [
      "[[2.3193616  0.94893157]\n",
      " [0.94893157 0.44039547]]\n"
     ]
    }
   ],
   "source": [
    "ZtZ=np.dot(Z.T,Z)\n",
    "print (ZtZ)"
   ]
  },
  {
   "cell_type": "code",
   "execution_count": 10,
   "metadata": {},
   "outputs": [
    {
     "name": "stdout",
     "output_type": "stream",
     "text": [
      "[[ 3.64067814 -7.84466377]\n",
      " [-7.84466377 19.17378717]]\n"
     ]
    }
   ],
   "source": [
    "ZtZ_inv=inv(ZtZ)\n",
    "print (ZtZ_inv)"
   ]
  },
  {
   "cell_type": "code",
   "execution_count": 11,
   "metadata": {},
   "outputs": [
    {
     "name": "stdout",
     "output_type": "stream",
     "text": [
      "60.945973979482126\n"
     ]
    }
   ],
   "source": [
    "# Condicionamento\n",
    "print(np.linalg.cond(ZtZ, p=2))"
   ]
  },
  {
   "cell_type": "code",
   "execution_count": 12,
   "metadata": {},
   "outputs": [
    {
     "name": "stdout",
     "output_type": "stream",
     "text": [
      "[ 0.05880078  0.04236655 -0.0334952  -0.08622606 -0.10460078]\n",
      "0.1573233630605803\n"
     ]
    }
   ],
   "source": [
    "# Vetor das diferenças \n",
    "D = yi-g(xi, A[0], A[1])\n",
    "print(D)\n",
    "print (np.linalg.norm(D))"
   ]
  },
  {
   "cell_type": "code",
   "execution_count": 13,
   "metadata": {},
   "outputs": [
    {
     "name": "stdout",
     "output_type": "stream",
     "text": [
      "[-0.15335612 -0.03656535]\n"
     ]
    }
   ],
   "source": [
    "ZtD = np.dot(Z.T,D)\n",
    "print(ZtD)"
   ]
  },
  {
   "cell_type": "code",
   "execution_count": 14,
   "metadata": {},
   "outputs": [
    {
     "name": "stdout",
     "output_type": "stream",
     "text": [
      "[-0.27147736  0.50193087]\n"
     ]
    }
   ],
   "source": [
    "dA = np.dot(ZtZ_inv, ZtD )\n",
    "print(dA)"
   ]
  },
  {
   "cell_type": "code",
   "execution_count": 15,
   "metadata": {},
   "outputs": [
    {
     "name": "stdout",
     "output_type": "stream",
     "text": [
      "[0.72852264 1.50193087]\n"
     ]
    }
   ],
   "source": [
    "A = A + dA\n",
    "print(A)"
   ]
  },
  {
   "cell_type": "code",
   "execution_count": 16,
   "metadata": {},
   "outputs": [
    {
     "data": {
      "image/png": "[encoded data removed]",
      "text/plain": [
       "<Figure size 432x288 with 1 Axes>"
      ]
     },
     "metadata": {
      "needs_background": "light"
     },
     "output_type": "display_data"
    }
   ],
   "source": [
    "xp = np.linspace(xi[0],xi[-1],51)\n",
    "plt.plot(xi, yi, \"o\", xp, g(xp, A[0], A[1]))\n",
    "plt.grid()\n",
    "plt.show()"
   ]
  },
  {
   "cell_type": "markdown",
   "metadata": {},
   "source": [
    "O ajuste não ficou muito bom com apenas uma iteração. Vamos fazer mais algumas!"
   ]
  },
  {
   "cell_type": "code",
   "execution_count": 17,
   "metadata": {},
   "outputs": [
    {
     "name": "stdout",
     "output_type": "stream",
     "text": [
      "[0.7910431  1.67770112]\n",
      "[0.79185177 1.67526844]\n",
      "[0.7918669 1.6751459]\n",
      "[0.79186765 1.67513958]\n",
      "[0.79186769 1.67513925]\n",
      "[0.79186769 1.67513925]\n",
      "0.025722732971042012\n"
     ]
    }
   ],
   "source": [
    "for i in range(5):\n",
    "    Z = np.array([dgda0(xi,A[0],A[1]), dgda1(xi,A[0],A[1])]).T\n",
    "    ZtZ=np.dot(Z.T,Z)\n",
    "    ZtZ_inv=np.linalg.inv(ZtZ)\n",
    "    D = yi-g(xi, A[0], A[1])\n",
    "    ZtD = np.dot(Z.T,D)\n",
    "    dA = np.dot(ZtZ_inv, ZtD )\n",
    "    A = A + dA\n",
    "    print(A)\n",
    "\n",
    "print (A)\n",
    "print (np.linalg.norm(D))"
   ]
  },
  {
   "cell_type": "code",
   "execution_count": 18,
   "metadata": {},
   "outputs": [
    {
     "data": {
      "image/png": "[encoded data removed]",
      "text/plain": [
       "<Figure size 432x288 with 1 Axes>"
      ]
     },
     "metadata": {
      "needs_background": "light"
     },
     "output_type": "display_data"
    }
   ],
   "source": [
    "xp = np.linspace(xi[0],xi[-1],51)\n",
    "plt.plot(xi, yi, \"o\", xp, g(xp, A[0], A[1]))\n",
    "plt.grid()\n",
    "plt.show()"
   ]
  },
  {
   "cell_type": "markdown",
   "metadata": {},
   "source": [
    "Agora sim, esse é um ótimo ajuste!"
   ]
  },
  {
   "cell_type": "markdown",
   "metadata": {},
   "source": [
    "## Exemplo 2\n",
    "Vamos ajustar a função $f(x)=\\frac{a_0x}{a1+x}$ aos dados \n",
    "\n",
    "$$\n",
    "\\begin{array}{cccccc}\n",
    "\\hline\n",
    "x &0.038 &0.194 &0.425 &0.626 &1.253 &2.500 &3.740  \\\\ \\hline\n",
    "y &0.050 &0.127 &0.094 &0.2122  &0.2729 &0.2665 &0.3317  \\\\\n",
    "\\hline\n",
    "\\end{array}\n",
    "$$\n",
    "\n",
    "usando aproximação inicial $a_0=0.9$ e $a_1=0.2$  para os parâmetros."
   ]
  },
  {
   "cell_type": "code",
   "execution_count": 19,
   "metadata": {},
   "outputs": [
    {
     "data": {
      "image/png": "[encoded data removed]",
      "text/plain": [
       "<Figure size 432x288 with 1 Axes>"
      ]
     },
     "metadata": {
      "needs_background": "light"
     },
     "output_type": "display_data"
    }
   ],
   "source": [
    "xi = np.array([0.038,0.194,0.425,0.626,1.253,2.500,3.740])\n",
    "yi = np.array([0.050,0.127,0.094,0.2122,0.2729,0.2665,0.3317])\n",
    "\n",
    "plt.plot(xi, yi, \"o\")\n",
    "plt.grid()\n",
    "plt.show()"
   ]
  },
  {
   "cell_type": "code",
   "execution_count": 20,
   "metadata": {},
   "outputs": [
    {
     "data": {
      "image/png": "[encoded data removed]",
      "text/latex": [
       "$\\displaystyle \\frac{a_{0} x}{a_{1} + x}$"
      ],
      "text/plain": [
       " a₀⋅x \n",
       "──────\n",
       "a₁ + x"
      ]
     },
     "execution_count": 20,
     "metadata": {},
     "output_type": "execute_result"
    }
   ],
   "source": [
    "# definindo a função aproximadora\n",
    "a0, a1, x= symbols(\"a0, a1, x\")\n",
    "g = (a0*x)/(a1+x)\n",
    "g"
   ]
  },
  {
   "cell_type": "code",
   "execution_count": 21,
   "metadata": {},
   "outputs": [
    {
     "data": {
      "image/png": "[encoded data removed]",
      "text/latex": [
       "$\\displaystyle \\frac{x}{a_{1} + x}$"
      ],
      "text/plain": [
       "  x   \n",
       "──────\n",
       "a₁ + x"
      ]
     },
     "execution_count": 21,
     "metadata": {},
     "output_type": "execute_result"
    }
   ],
   "source": [
    "dgda0 = diff(g,a0)\n",
    "dgda0"
   ]
  },
  {
   "cell_type": "code",
   "execution_count": 22,
   "metadata": {},
   "outputs": [
    {
     "data": {
      "image/png": "[encoded data removed]",
      "text/latex": [
       "$\\displaystyle - \\frac{a_{0} x}{\\left(a_{1} + x\\right)^{2}}$"
      ],
      "text/plain": [
       "  -a₀⋅x  \n",
       "─────────\n",
       "        2\n",
       "(a₁ + x) "
      ]
     },
     "execution_count": 22,
     "metadata": {},
     "output_type": "execute_result"
    }
   ],
   "source": [
    "dgda1 = diff(g,a1)\n",
    "dgda1"
   ]
  },
  {
   "cell_type": "code",
   "execution_count": 23,
   "metadata": {},
   "outputs": [],
   "source": [
    "# tornando as funções g(x) e suas derivadas 'avaliáveis'\n",
    "g = lambdify((x, a0, a1), g)\n",
    "dgda0 = lambdify((x,a0,a1), dgda0)\n",
    "dgda1 = lambdify((x,a0,a1), dgda1)"
   ]
  },
  {
   "cell_type": "code",
   "execution_count": 24,
   "metadata": {},
   "outputs": [],
   "source": [
    "# chute inicial\n",
    "A = np.array([0.9, 0.2])"
   ]
  },
  {
   "cell_type": "code",
   "execution_count": 25,
   "metadata": {},
   "outputs": [
    {
     "name": "stdout",
     "output_type": "stream",
     "text": [
      "[0.33266293 0.26017391]\n",
      "[0.34280925 0.42607918]\n",
      "[0.35777522 0.52950844]\n",
      "[0.36140546 0.5536581 ]\n",
      "[0.36180308 0.55607253]\n",
      "[0.36180308 0.55607253]\n",
      "0.08856739022235431\n"
     ]
    }
   ],
   "source": [
    "for i in range(5):\n",
    "    Z = np.array([dgda0(xi, A[0],A[1]), dgda1(xi, A[0],A[1])]).T\n",
    "    D = yi-g(xi, A[0], A[1])\n",
    "    dA = np.dot(inv(np.dot(Z.T,Z)), np.dot(Z.T,D) )\n",
    "    A = A + dA\n",
    "    print(A)\n",
    "\n",
    "print (A)\n",
    "print (np.linalg.norm(D))"
   ]
  },
  {
   "cell_type": "code",
   "execution_count": 26,
   "metadata": {},
   "outputs": [
    {
     "data": {
      "image/png": "[encoded data removed]",
      "text/plain": [
       "<Figure size 432x288 with 1 Axes>"
      ]
     },
     "metadata": {
      "needs_background": "light"
     },
     "output_type": "display_data"
    }
   ],
   "source": [
    "xp = np.linspace(xi[0],xi[-1],51)\n",
    "plt.plot(xi, yi, \"o\", xp, g(xp, A[0], A[1]))\n",
    "plt.grid()\n",
    "plt.show()"
   ]
  },
  {
   "cell_type": "code",
   "execution_count": null,
   "metadata": {},
   "outputs": [],
   "source": []
  },
  {
   "cell_type": "markdown",
   "metadata": {},
   "source": [
    "## Exemplo 3\n",
    "Determine os valores dos coefcientes $a$ e $b$ da função $g(x) =\n",
    "1 + ae^{bx}$, aos ajustar os valores da tabela abaixo usando o Método dos Mínimos Quadrados.\n",
    "\n",
    "$$\n",
    "\\begin{array}{cccccc}\n",
    "\\hline\n",
    "x_i &0 &0.5 &1.0 &2.5 &3.0 \\\\ \\hline\n",
    "f(x_i) &2.0 &2.6 &3.7 &13.2 &21.0 \\\\ \\hline\n",
    "\\hline\n",
    "\\end{array}\n",
    "$$"
   ]
  },
  {
   "cell_type": "code",
   "execution_count": 104,
   "metadata": {},
   "outputs": [
    {
     "data": {
      "image/png": "[encoded data removed]",
      "text/plain": [
       "<Figure size 432x288 with 1 Axes>"
      ]
     },
     "metadata": {
      "needs_background": "light"
     },
     "output_type": "display_data"
    }
   ],
   "source": [
    "xi = np.array([0, 0.5, 1.0, 2.5, 3.0])\n",
    "yi = np.array([2.0, 2.6, 3.7, 13.2, 21.0])\n",
    "plt.plot(xi, yi, \"o\")\n",
    "plt.grid()\n",
    "plt.show()"
   ]
  },
  {
   "cell_type": "code",
   "execution_count": 105,
   "metadata": {},
   "outputs": [],
   "source": [
    "# definindo a função aproximadora\n",
    "a0, a1, x= symbols(\"a0, a1, x\")\n",
    "g = lambda x,a,b: 1+a*np.exp(b*x)"
   ]
  },
  {
   "cell_type": "code",
   "execution_count": 106,
   "metadata": {},
   "outputs": [],
   "source": [
    "# definindo as derivadas \n",
    "dgda0 = lambda x,a,b: np.exp(b*x)\n",
    "dgda1 = lambda x,a,b: b*a*np.exp(b*x)"
   ]
  },
  {
   "cell_type": "code",
   "execution_count": 107,
   "metadata": {},
   "outputs": [],
   "source": [
    "# chute inicial\n",
    "A = np.array([1.5, 1.5])"
   ]
  },
  {
   "cell_type": "code",
   "execution_count": 108,
   "metadata": {},
   "outputs": [
    {
     "name": "stdout",
     "output_type": "stream",
     "text": [
      "[[  1.           2.25      ]\n",
      " [  2.11700002   4.76325004]\n",
      " [  4.48168907  10.08380041]\n",
      " [ 42.521082    95.6724345 ]\n",
      " [ 90.0171313  202.53854543]]\n"
     ]
    }
   ],
   "source": [
    "Z = np.array([dgda0(xi,A[0],A[1]), dgda1(xi,A[0],A[1])]).T\n",
    "print(Z)"
   ]
  },
  {
   "cell_type": "code",
   "execution_count": 109,
   "metadata": {},
   "outputs": [
    {
     "name": "stdout",
     "output_type": "stream",
     "text": [
      "[[ 9936.69356802 22357.56052806]\n",
      " [22357.56052806 50304.51118813]]\n"
     ]
    }
   ],
   "source": [
    "ZtZ=np.dot(Z.T,Z)\n",
    "print (ZtZ)"
   ]
  },
  {
   "cell_type": "code",
   "execution_count": 110,
   "metadata": {},
   "outputs": [
    {
     "name": "stdout",
     "output_type": "stream",
     "text": [
      "1.0192937667332826e+16\n"
     ]
    }
   ],
   "source": [
    "# Condicionamento\n",
    "print(np.linalg.cond(np.dot(Z.T,Z), p=2))"
   ]
  },
  {
   "cell_type": "markdown",
   "metadata": {},
   "source": [
    "Observe que o número de condicionamento da matriz é bem alto indicando um mal condicionamento. Possivelmente, dependendo da aproximação inicial, o método não será convergente."
   ]
  },
  {
   "cell_type": "code",
   "execution_count": 111,
   "metadata": {},
   "outputs": [
    {
     "name": "stdout",
     "output_type": "stream",
     "text": [
      "[  -0.5          -1.57550002   -4.02253361  -51.581623   -115.02569695]\n"
     ]
    }
   ],
   "source": [
    "# Vetor das diferenças \n",
    "D = yi-g(xi, A[0], A[1])\n",
    "print(D)"
   ]
  },
  {
   "cell_type": "code",
   "execution_count": 112,
   "metadata": {},
   "outputs": [
    {
     "name": "stdout",
     "output_type": "stream",
     "text": [
      "[-12569.45276511 -28281.2687215 ]\n"
     ]
    }
   ],
   "source": [
    "ZtD = np.dot(Z.T,D)\n",
    "print(ZtD)"
   ]
  },
  {
   "cell_type": "code",
   "execution_count": 113,
   "metadata": {},
   "outputs": [
    {
     "name": "stdout",
     "output_type": "stream",
     "text": [
      "[[ 3.09237645e+11 -1.37438953e+11]\n",
      " [-1.37438953e+11  6.10839793e+10]]\n"
     ]
    }
   ],
   "source": [
    "ZtZ_inv=inv(ZtZ)\n",
    "print (ZtZ_inv)"
   ]
  },
  {
   "cell_type": "code",
   "execution_count": 114,
   "metadata": {},
   "outputs": [
    {
     "data": {
      "text/plain": [
       "array([-1.  , -0.25])"
      ]
     },
     "execution_count": 114,
     "metadata": {},
     "output_type": "execute_result"
    }
   ],
   "source": [
    "np.dot(ZtZ_inv, ZtD )"
   ]
  },
  {
   "cell_type": "code",
   "execution_count": 115,
   "metadata": {},
   "outputs": [
    {
     "name": "stdout",
     "output_type": "stream",
     "text": [
      "[-1.   -0.25]\n"
     ]
    }
   ],
   "source": [
    "dA = np.dot(ZtZ_inv, ZtD )\n",
    "print(dA)"
   ]
  },
  {
   "cell_type": "code",
   "execution_count": 116,
   "metadata": {},
   "outputs": [
    {
     "name": "stdout",
     "output_type": "stream",
     "text": [
      "[0.5  1.25]\n"
     ]
    }
   ],
   "source": [
    "A = A + dA\n",
    "print(A)"
   ]
  },
  {
   "cell_type": "code",
   "execution_count": 117,
   "metadata": {},
   "outputs": [
    {
     "data": {
      "image/png": "[encoded data removed]",
      "text/plain": [
       "<Figure size 432x288 with 1 Axes>"
      ]
     },
     "metadata": {
      "needs_background": "light"
     },
     "output_type": "display_data"
    }
   ],
   "source": [
    "xp = np.linspace(xi[0],xi[-1],51)\n",
    "plt.plot(xi, yi, \"o\", xp, g(xp, A[0], A[1]))\n",
    "plt.grid()\n",
    "plt.show()"
   ]
  },
  {
   "cell_type": "code",
   "execution_count": 118,
   "metadata": {},
   "outputs": [
    {
     "ename": "LinAlgError",
     "evalue": "Singular matrix",
     "output_type": "error",
     "traceback": [
      "\u001b[0;31m---------------------------------------------------------------------------\u001b[0m",
      "\u001b[0;31mLinAlgError\u001b[0m                               Traceback (most recent call last)",
      "\u001b[0;32m<ipython-input-118-f9fa02e5eb66>\u001b[0m in \u001b[0;36m<module>\u001b[0;34m\u001b[0m\n\u001b[1;32m      2\u001b[0m     \u001b[0mZ\u001b[0m \u001b[0;34m=\u001b[0m \u001b[0mnp\u001b[0m\u001b[0;34m.\u001b[0m\u001b[0marray\u001b[0m\u001b[0;34m(\u001b[0m\u001b[0;34m[\u001b[0m\u001b[0mdgda0\u001b[0m\u001b[0;34m(\u001b[0m\u001b[0mxi\u001b[0m\u001b[0;34m,\u001b[0m \u001b[0mA\u001b[0m\u001b[0;34m[\u001b[0m\u001b[0;36m0\u001b[0m\u001b[0;34m]\u001b[0m\u001b[0;34m,\u001b[0m\u001b[0mA\u001b[0m\u001b[0;34m[\u001b[0m\u001b[0;36m1\u001b[0m\u001b[0;34m]\u001b[0m\u001b[0;34m)\u001b[0m\u001b[0;34m,\u001b[0m \u001b[0mdgda1\u001b[0m\u001b[0;34m(\u001b[0m\u001b[0mxi\u001b[0m\u001b[0;34m,\u001b[0m \u001b[0mA\u001b[0m\u001b[0;34m[\u001b[0m\u001b[0;36m0\u001b[0m\u001b[0;34m]\u001b[0m\u001b[0;34m,\u001b[0m\u001b[0mA\u001b[0m\u001b[0;34m[\u001b[0m\u001b[0;36m1\u001b[0m\u001b[0;34m]\u001b[0m\u001b[0;34m)\u001b[0m\u001b[0;34m]\u001b[0m\u001b[0;34m)\u001b[0m\u001b[0;34m.\u001b[0m\u001b[0mT\u001b[0m\u001b[0;34m\u001b[0m\u001b[0;34m\u001b[0m\u001b[0m\n\u001b[1;32m      3\u001b[0m     \u001b[0mD\u001b[0m \u001b[0;34m=\u001b[0m \u001b[0myi\u001b[0m\u001b[0;34m-\u001b[0m\u001b[0mg\u001b[0m\u001b[0;34m(\u001b[0m\u001b[0mxi\u001b[0m\u001b[0;34m,\u001b[0m \u001b[0mA\u001b[0m\u001b[0;34m[\u001b[0m\u001b[0;36m0\u001b[0m\u001b[0;34m]\u001b[0m\u001b[0;34m,\u001b[0m \u001b[0mA\u001b[0m\u001b[0;34m[\u001b[0m\u001b[0;36m1\u001b[0m\u001b[0;34m]\u001b[0m\u001b[0;34m)\u001b[0m\u001b[0;34m\u001b[0m\u001b[0;34m\u001b[0m\u001b[0m\n\u001b[0;32m----> 4\u001b[0;31m     \u001b[0mdA\u001b[0m \u001b[0;34m=\u001b[0m \u001b[0mnp\u001b[0m\u001b[0;34m.\u001b[0m\u001b[0mdot\u001b[0m\u001b[0;34m(\u001b[0m\u001b[0minv\u001b[0m\u001b[0;34m(\u001b[0m\u001b[0mnp\u001b[0m\u001b[0;34m.\u001b[0m\u001b[0mdot\u001b[0m\u001b[0;34m(\u001b[0m\u001b[0mZ\u001b[0m\u001b[0;34m.\u001b[0m\u001b[0mT\u001b[0m\u001b[0;34m,\u001b[0m\u001b[0mZ\u001b[0m\u001b[0;34m)\u001b[0m\u001b[0;34m)\u001b[0m\u001b[0;34m,\u001b[0m \u001b[0mnp\u001b[0m\u001b[0;34m.\u001b[0m\u001b[0mdot\u001b[0m\u001b[0;34m(\u001b[0m\u001b[0mZ\u001b[0m\u001b[0;34m.\u001b[0m\u001b[0mT\u001b[0m\u001b[0;34m,\u001b[0m\u001b[0mD\u001b[0m\u001b[0;34m)\u001b[0m \u001b[0;34m)\u001b[0m\u001b[0;34m\u001b[0m\u001b[0;34m\u001b[0m\u001b[0m\n\u001b[0m\u001b[1;32m      5\u001b[0m     \u001b[0mA\u001b[0m \u001b[0;34m=\u001b[0m \u001b[0mA\u001b[0m \u001b[0;34m+\u001b[0m \u001b[0mdA\u001b[0m\u001b[0;34m\u001b[0m\u001b[0;34m\u001b[0m\u001b[0m\n\u001b[1;32m      6\u001b[0m     \u001b[0mprint\u001b[0m\u001b[0;34m(\u001b[0m\u001b[0mA\u001b[0m\u001b[0;34m)\u001b[0m\u001b[0;34m\u001b[0m\u001b[0;34m\u001b[0m\u001b[0m\n",
      "\u001b[0;32m<__array_function__ internals>\u001b[0m in \u001b[0;36minv\u001b[0;34m(*args, **kwargs)\u001b[0m\n",
      "\u001b[0;32m~/anaconda3/lib/python3.8/site-packages/numpy/linalg/linalg.py\u001b[0m in \u001b[0;36minv\u001b[0;34m(a)\u001b[0m\n\u001b[1;32m    543\u001b[0m     \u001b[0msignature\u001b[0m \u001b[0;34m=\u001b[0m \u001b[0;34m'D->D'\u001b[0m \u001b[0;32mif\u001b[0m \u001b[0misComplexType\u001b[0m\u001b[0;34m(\u001b[0m\u001b[0mt\u001b[0m\u001b[0;34m)\u001b[0m \u001b[0;32melse\u001b[0m \u001b[0;34m'd->d'\u001b[0m\u001b[0;34m\u001b[0m\u001b[0;34m\u001b[0m\u001b[0m\n\u001b[1;32m    544\u001b[0m     \u001b[0mextobj\u001b[0m \u001b[0;34m=\u001b[0m \u001b[0mget_linalg_error_extobj\u001b[0m\u001b[0;34m(\u001b[0m\u001b[0m_raise_linalgerror_singular\u001b[0m\u001b[0;34m)\u001b[0m\u001b[0;34m\u001b[0m\u001b[0;34m\u001b[0m\u001b[0m\n\u001b[0;32m--> 545\u001b[0;31m     \u001b[0mainv\u001b[0m \u001b[0;34m=\u001b[0m \u001b[0m_umath_linalg\u001b[0m\u001b[0;34m.\u001b[0m\u001b[0minv\u001b[0m\u001b[0;34m(\u001b[0m\u001b[0ma\u001b[0m\u001b[0;34m,\u001b[0m \u001b[0msignature\u001b[0m\u001b[0;34m=\u001b[0m\u001b[0msignature\u001b[0m\u001b[0;34m,\u001b[0m \u001b[0mextobj\u001b[0m\u001b[0;34m=\u001b[0m\u001b[0mextobj\u001b[0m\u001b[0;34m)\u001b[0m\u001b[0;34m\u001b[0m\u001b[0;34m\u001b[0m\u001b[0m\n\u001b[0m\u001b[1;32m    546\u001b[0m     \u001b[0;32mreturn\u001b[0m \u001b[0mwrap\u001b[0m\u001b[0;34m(\u001b[0m\u001b[0mainv\u001b[0m\u001b[0;34m.\u001b[0m\u001b[0mastype\u001b[0m\u001b[0;34m(\u001b[0m\u001b[0mresult_t\u001b[0m\u001b[0;34m,\u001b[0m \u001b[0mcopy\u001b[0m\u001b[0;34m=\u001b[0m\u001b[0;32mFalse\u001b[0m\u001b[0;34m)\u001b[0m\u001b[0;34m)\u001b[0m\u001b[0;34m\u001b[0m\u001b[0;34m\u001b[0m\u001b[0m\n\u001b[1;32m    547\u001b[0m \u001b[0;34m\u001b[0m\u001b[0m\n",
      "\u001b[0;32m~/anaconda3/lib/python3.8/site-packages/numpy/linalg/linalg.py\u001b[0m in \u001b[0;36m_raise_linalgerror_singular\u001b[0;34m(err, flag)\u001b[0m\n\u001b[1;32m     86\u001b[0m \u001b[0;34m\u001b[0m\u001b[0m\n\u001b[1;32m     87\u001b[0m \u001b[0;32mdef\u001b[0m \u001b[0m_raise_linalgerror_singular\u001b[0m\u001b[0;34m(\u001b[0m\u001b[0merr\u001b[0m\u001b[0;34m,\u001b[0m \u001b[0mflag\u001b[0m\u001b[0;34m)\u001b[0m\u001b[0;34m:\u001b[0m\u001b[0;34m\u001b[0m\u001b[0;34m\u001b[0m\u001b[0m\n\u001b[0;32m---> 88\u001b[0;31m     \u001b[0;32mraise\u001b[0m \u001b[0mLinAlgError\u001b[0m\u001b[0;34m(\u001b[0m\u001b[0;34m\"Singular matrix\"\u001b[0m\u001b[0;34m)\u001b[0m\u001b[0;34m\u001b[0m\u001b[0;34m\u001b[0m\u001b[0m\n\u001b[0m\u001b[1;32m     89\u001b[0m \u001b[0;34m\u001b[0m\u001b[0m\n\u001b[1;32m     90\u001b[0m \u001b[0;32mdef\u001b[0m \u001b[0m_raise_linalgerror_nonposdef\u001b[0m\u001b[0;34m(\u001b[0m\u001b[0merr\u001b[0m\u001b[0;34m,\u001b[0m \u001b[0mflag\u001b[0m\u001b[0;34m)\u001b[0m\u001b[0;34m:\u001b[0m\u001b[0;34m\u001b[0m\u001b[0;34m\u001b[0m\u001b[0m\n",
      "\u001b[0;31mLinAlgError\u001b[0m: Singular matrix"
     ]
    }
   ],
   "source": [
    "for i in range(5):\n",
    "    Z = np.array([dgda0(xi, A[0],A[1]), dgda1(xi, A[0],A[1])]).T\n",
    "    D = yi-g(xi, A[0], A[1])\n",
    "    dA = np.dot(inv(np.dot(Z.T,Z)), np.dot(Z.T,D) )\n",
    "    A = A + dA\n",
    "    print(A)\n",
    "\n",
    "print (A)\n",
    "print (np.linalg.norm(D))"
   ]
  },
  {
   "cell_type": "markdown",
   "metadata": {},
   "source": [
    "Tentando mais algumas iterações ocorreu um erro na hora de inverter a matrix para resolver o sistema (matriz singular, não invertível). Tentando outra aproximação inicial pode dar certo:\n"
   ]
  },
  {
   "cell_type": "code",
   "execution_count": 151,
   "metadata": {},
   "outputs": [],
   "source": [
    "# chute inicial\n",
    "A = np.array([1.1, 1.0])"
   ]
  },
  {
   "cell_type": "code",
   "execution_count": 154,
   "metadata": {},
   "outputs": [
    {
     "name": "stdout",
     "output_type": "stream",
     "text": [
      "[0.975    1.015625]\n",
      "[0.975    1.015625]\n",
      "[0.975    1.015625]\n",
      "[0.975    1.015625]\n",
      "[0.975    1.015625]\n",
      "[0.975    1.015625]\n",
      "0.5456069066587946\n"
     ]
    }
   ],
   "source": [
    "for i in range(5):\n",
    "    Z = np.array([dgda0(xi, A[0],A[1]), dgda1(xi, A[0],A[1])]).T\n",
    "    D = yi-g(xi, A[0], A[1])\n",
    "    dA = np.dot(inv(np.dot(Z.T,Z)), np.dot(Z.T,D) )\n",
    "    A = A + dA\n",
    "    print(A)\n",
    "\n",
    "print (A)\n",
    "print (np.linalg.norm(D))"
   ]
  },
  {
   "cell_type": "code",
   "execution_count": 153,
   "metadata": {},
   "outputs": [
    {
     "data": {
      "image/png": "[encoded data removed]",
      "text/plain": [
       "<Figure size 432x288 with 1 Axes>"
      ]
     },
     "metadata": {
      "needs_background": "light"
     },
     "output_type": "display_data"
    }
   ],
   "source": [
    "xp = np.linspace(xi[0],xi[-1],51)\n",
    "plt.plot(xi, yi, \"o\", xp, g(xp, A[0], A[1]))\n",
    "plt.grid()\n",
    "plt.show()"
   ]
  },
  {
   "cell_type": "markdown",
   "metadata": {},
   "source": [
    "O método aparentemente funcionou mas a verdade é que o chute inicial foi múito próximo da solução o que dá a ilusão de ter funcionado mas como pode ser visto no resultado das iterações os valores permanecem sempre iguais, ou seja, o método não está convergindo."
   ]
  },
  {
   "cell_type": "markdown",
   "metadata": {},
   "source": [
    "### Forma correta de abordar esse problema\n",
    "A forma correta re resolver esse problema é realizar a linearização da função aproximadora subtraindo $1$ e aplicando logaritmo neperiano em ambos os lados da equação, obtendo-se:\n",
    "\n",
    "$$ln(f(x)-1)=ln(a)+bx$$\n",
    "\n",
    "Fazemos uma modificação na tabela de pontos e ajustamos uma reta:"
   ]
  },
  {
   "cell_type": "code",
   "execution_count": 161,
   "metadata": {},
   "outputs": [
    {
     "data": {
      "image/png": "[encoded data removed]",
      "text/plain": [
       "<Figure size 432x288 with 1 Axes>"
      ]
     },
     "metadata": {
      "needs_background": "light"
     },
     "output_type": "display_data"
    }
   ],
   "source": [
    "yl=np.log(yi-1)\n",
    "plt.plot(xi, yl, \"*\")\n",
    "plt.grid()\n",
    "plt.show()"
   ]
  },
  {
   "cell_type": "code",
   "execution_count": 163,
   "metadata": {},
   "outputs": [
    {
     "name": "stdout",
     "output_type": "stream",
     "text": [
      "A= [[ 5.   7. ]\n",
      " [ 7.  16.5]]\n",
      "b= [ 6.96042363 16.46904029]\n",
      "SOL= [-0.01302365  1.00364884]\n"
     ]
    }
   ],
   "source": [
    "A = np.array([[len(xi), np.sum(xi)],\n",
    "              [np.sum(xi), np.sum(xi*xi)]])\n",
    "b = np.array([np.sum(yl), np.sum(yl*xi)])\n",
    "\n",
    "a = np.linalg.solve(A, b)\n",
    "print (\"A=\",A)\n",
    "print (\"b=\",b)\n",
    "print (\"SOL=\",a)"
   ]
  },
  {
   "cell_type": "code",
   "execution_count": 164,
   "metadata": {},
   "outputs": [
    {
     "name": "stdout",
     "output_type": "stream",
     "text": [
      "0.9870607941761933 1.0036488371752603\n"
     ]
    }
   ],
   "source": [
    "K = np.exp(a[0])\n",
    "B = a[1]\n",
    "print(K,B)"
   ]
  },
  {
   "cell_type": "code",
   "execution_count": 165,
   "metadata": {},
   "outputs": [],
   "source": [
    "g = lambda x: 1+K*np.exp(B*x)"
   ]
  },
  {
   "cell_type": "code",
   "execution_count": 167,
   "metadata": {},
   "outputs": [
    {
     "data": {
      "image/png": "[encoded data removed]",
      "text/plain": [
       "<Figure size 432x288 with 1 Axes>"
      ]
     },
     "metadata": {
      "needs_background": "light"
     },
     "output_type": "display_data"
    }
   ],
   "source": [
    "xp = np.linspace(xi[0],xi[-1],51)\n",
    "plt.plot(xi, yi, \"o\", xp, g(xp))\n",
    "plt.grid()\n",
    "plt.show()"
   ]
  },
  {
   "cell_type": "markdown",
   "metadata": {},
   "source": [
    "Outra abordagem é usar a solução de $A^T A x=A^T b$ onde as matrizes A e b são tais que "
   ]
  },
  {
   "cell_type": "code",
   "execution_count": 174,
   "metadata": {},
   "outputs": [
    {
     "name": "stdout",
     "output_type": "stream",
     "text": [
      "[[ 5.   7. ]\n",
      " [ 7.  16.5]]\n",
      "[ 6.96042363 16.46904029]\n"
     ]
    }
   ],
   "source": [
    "A = np.array([[1,xi[0]],[1,xi[1]], [1,xi[2]],[1,xi[3]],[1,xi[4]]])\n",
    "b = yi\n",
    "print (np.dot(A.T,A))\n",
    "print (np.dot(A.T,yl))"
   ]
  },
  {
   "cell_type": "code",
   "execution_count": 175,
   "metadata": {},
   "outputs": [
    {
     "name": "stdout",
     "output_type": "stream",
     "text": [
      "[-0.01302365  1.00364884]\n"
     ]
    }
   ],
   "source": [
    "a = np.linalg.solve(np.dot(A.T,A), np.dot(A.T,yl))\n",
    "print (a)"
   ]
  },
  {
   "cell_type": "code",
   "execution_count": 176,
   "metadata": {},
   "outputs": [
    {
     "name": "stdout",
     "output_type": "stream",
     "text": [
      "0.9870607941761933 1.00364883717526\n"
     ]
    }
   ],
   "source": [
    "K = np.exp(a[0])\n",
    "B = a[1]\n",
    "print(K,B)"
   ]
  }
 ],
 "metadata": {
  "kernelspec": {
   "display_name": "Python 3",
   "language": "python",
   "name": "python3"
  },
  "language_info": {
   "codemirror_mode": {
    "name": "ipython",
    "version": 3
   },
   "file_extension": ".py",
   "mimetype": "text/x-python",
   "name": "python",
   "nbconvert_exporter": "python",
   "pygments_lexer": "ipython3",
   "version": "3.8.5"
  }
 },
 "nbformat": 4,
 "nbformat_minor": 4
}
